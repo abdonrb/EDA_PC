{
 "cells": [
  {
   "cell_type": "code",
   "execution_count": 1,
   "metadata": {},
   "outputs": [],
   "source": [
    "import pandas as pd\n",
    "import numpy as np\n",
    "import matplotlib.pyplot as plt\n",
    "import seaborn as sns\n",
    "import re\n",
    "import os"
   ]
  },
  {
   "cell_type": "code",
   "execution_count": 2,
   "metadata": {},
   "outputs": [],
   "source": [
    "pc = pd.read_parquet(r'C:\\Users\\Abdon.RAMIREZ-BRICEN\\OneDrive - Akkodis\\Desktop\\EDA_PC\\Data\\Raw\\train.parquet',engine='fastparquet')"
   ]
  },
  {
   "cell_type": "code",
   "execution_count": 3,
   "metadata": {},
   "outputs": [],
   "source": [
    "df = pc.copy()"
   ]
  },
  {
   "cell_type": "code",
   "execution_count": 4,
   "metadata": {},
   "outputs": [
    {
     "name": "stdout",
     "output_type": "stream",
     "text": [
      "<class 'pandas.core.frame.DataFrame'>\n",
      "RangeIndex: 912 entries, 0 to 911\n",
      "Data columns (total 13 columns):\n",
      " #   Column            Non-Null Count  Dtype  \n",
      "---  ------            --------------  -----  \n",
      " 0   laptop_ID         912 non-null    int64  \n",
      " 1   Company           912 non-null    object \n",
      " 2   Product           912 non-null    object \n",
      " 3   TypeName          912 non-null    object \n",
      " 4   Inches            912 non-null    object \n",
      " 5   ScreenResolution  912 non-null    object \n",
      " 6   Cpu               912 non-null    object \n",
      " 7   Ram               912 non-null    object \n",
      " 8   Memory            912 non-null    object \n",
      " 9   Gpu               912 non-null    object \n",
      " 10  OpSys             912 non-null    object \n",
      " 11  Weight            912 non-null    object \n",
      " 12  Price_euros       912 non-null    float64\n",
      "dtypes: float64(1), int64(1), object(11)\n",
      "memory usage: 92.8+ KB\n"
     ]
    }
   ],
   "source": [
    "df.info()"
   ]
  },
  {
   "cell_type": "code",
   "execution_count": 5,
   "metadata": {},
   "outputs": [
    {
     "data": {
      "text/plain": [
       "laptop_ID           0\n",
       "Company             0\n",
       "Product             0\n",
       "TypeName            0\n",
       "Inches              0\n",
       "ScreenResolution    0\n",
       "Cpu                 0\n",
       "Ram                 0\n",
       "Memory              0\n",
       "Gpu                 0\n",
       "OpSys               0\n",
       "Weight              0\n",
       "Price_euros         0\n",
       "dtype: int64"
      ]
     },
     "execution_count": 5,
     "metadata": {},
     "output_type": "execute_result"
    }
   ],
   "source": [
    "df.isnull().sum()"
   ]
  },
  {
   "cell_type": "code",
   "execution_count": 6,
   "metadata": {},
   "outputs": [
    {
     "data": {
      "text/html": [
       "<div>\n",
       "<style scoped>\n",
       "    .dataframe tbody tr th:only-of-type {\n",
       "        vertical-align: middle;\n",
       "    }\n",
       "\n",
       "    .dataframe tbody tr th {\n",
       "        vertical-align: top;\n",
       "    }\n",
       "\n",
       "    .dataframe thead th {\n",
       "        text-align: right;\n",
       "    }\n",
       "</style>\n",
       "<table border=\"1\" class=\"dataframe\">\n",
       "  <thead>\n",
       "    <tr style=\"text-align: right;\">\n",
       "      <th></th>\n",
       "      <th>laptop_ID</th>\n",
       "      <th>Company</th>\n",
       "      <th>Product</th>\n",
       "      <th>TypeName</th>\n",
       "      <th>Inches</th>\n",
       "      <th>ScreenResolution</th>\n",
       "      <th>Cpu</th>\n",
       "      <th>Ram</th>\n",
       "      <th>Memory</th>\n",
       "      <th>Gpu</th>\n",
       "      <th>OpSys</th>\n",
       "      <th>Weight</th>\n",
       "      <th>Price_euros</th>\n",
       "    </tr>\n",
       "  </thead>\n",
       "  <tbody>\n",
       "    <tr>\n",
       "      <th>0</th>\n",
       "      <td>599</td>\n",
       "      <td>Dell</td>\n",
       "      <td>Inspiron 3179</td>\n",
       "      <td>2 in 1 Convertible</td>\n",
       "      <td>11.6</td>\n",
       "      <td>Touchscreen 1366x768</td>\n",
       "      <td>Intel Core M 7Y30 1.0GHz</td>\n",
       "      <td>4GB</td>\n",
       "      <td>128GB SSD</td>\n",
       "      <td>Intel HD Graphics 615</td>\n",
       "      <td>Windows 10</td>\n",
       "      <td>1.39kg</td>\n",
       "      <td>603.0</td>\n",
       "    </tr>\n",
       "    <tr>\n",
       "      <th>1</th>\n",
       "      <td>92</td>\n",
       "      <td>Asus</td>\n",
       "      <td>FX550IK-DM018T (FX-9830P/8GB/1TB/Radeon</td>\n",
       "      <td>Gaming</td>\n",
       "      <td>15.6</td>\n",
       "      <td>Full HD 1920x1080</td>\n",
       "      <td>AMD FX 9830P 3GHz</td>\n",
       "      <td>8GB</td>\n",
       "      <td>1TB HDD</td>\n",
       "      <td>AMD Radeon RX 560</td>\n",
       "      <td>Windows 10</td>\n",
       "      <td>2.45kg</td>\n",
       "      <td>699.0</td>\n",
       "    </tr>\n",
       "    <tr>\n",
       "      <th>2</th>\n",
       "      <td>744</td>\n",
       "      <td>HP</td>\n",
       "      <td>ZBook 15</td>\n",
       "      <td>Workstation</td>\n",
       "      <td>15.6</td>\n",
       "      <td>Full HD 1920x1080</td>\n",
       "      <td>Intel Core i7 7700HQ 2.8GHz</td>\n",
       "      <td>16GB</td>\n",
       "      <td>256GB SSD</td>\n",
       "      <td>Nvidia Quadro M2200</td>\n",
       "      <td>Windows 10</td>\n",
       "      <td>2.6kg</td>\n",
       "      <td>2419.0</td>\n",
       "    </tr>\n",
       "    <tr>\n",
       "      <th>3</th>\n",
       "      <td>729</td>\n",
       "      <td>HP</td>\n",
       "      <td>Pavilion X360</td>\n",
       "      <td>2 in 1 Convertible</td>\n",
       "      <td>13.3</td>\n",
       "      <td>IPS Panel Touchscreen 1366x768</td>\n",
       "      <td>Intel Core i5 7200U 2.5GHz</td>\n",
       "      <td>8GB</td>\n",
       "      <td>256GB SSD</td>\n",
       "      <td>Intel HD Graphics 620</td>\n",
       "      <td>Windows 10</td>\n",
       "      <td>1.58kg</td>\n",
       "      <td>836.6</td>\n",
       "    </tr>\n",
       "    <tr>\n",
       "      <th>4</th>\n",
       "      <td>957</td>\n",
       "      <td>Toshiba</td>\n",
       "      <td>Tecra A50-C-1ZV</td>\n",
       "      <td>Notebook</td>\n",
       "      <td>15.6</td>\n",
       "      <td>1366x768</td>\n",
       "      <td>Intel Core i5 6200U 2.3GHz</td>\n",
       "      <td>8GB</td>\n",
       "      <td>256GB SSD</td>\n",
       "      <td>Intel HD Graphics 520</td>\n",
       "      <td>Windows 10</td>\n",
       "      <td>2.2kg</td>\n",
       "      <td>1119.0</td>\n",
       "    </tr>\n",
       "  </tbody>\n",
       "</table>\n",
       "</div>"
      ],
      "text/plain": [
       "   laptop_ID  Company                                  Product  \\\n",
       "0        599     Dell                            Inspiron 3179   \n",
       "1         92     Asus  FX550IK-DM018T (FX-9830P/8GB/1TB/Radeon   \n",
       "2        744       HP                                 ZBook 15   \n",
       "3        729       HP                            Pavilion X360   \n",
       "4        957  Toshiba                          Tecra A50-C-1ZV   \n",
       "\n",
       "             TypeName Inches                ScreenResolution  \\\n",
       "0  2 in 1 Convertible   11.6            Touchscreen 1366x768   \n",
       "1              Gaming   15.6               Full HD 1920x1080   \n",
       "2         Workstation   15.6               Full HD 1920x1080   \n",
       "3  2 in 1 Convertible   13.3  IPS Panel Touchscreen 1366x768   \n",
       "4            Notebook   15.6                        1366x768   \n",
       "\n",
       "                           Cpu   Ram     Memory                    Gpu  \\\n",
       "0     Intel Core M 7Y30 1.0GHz   4GB  128GB SSD  Intel HD Graphics 615   \n",
       "1            AMD FX 9830P 3GHz   8GB    1TB HDD      AMD Radeon RX 560   \n",
       "2  Intel Core i7 7700HQ 2.8GHz  16GB  256GB SSD    Nvidia Quadro M2200   \n",
       "3   Intel Core i5 7200U 2.5GHz   8GB  256GB SSD  Intel HD Graphics 620   \n",
       "4   Intel Core i5 6200U 2.3GHz   8GB  256GB SSD  Intel HD Graphics 520   \n",
       "\n",
       "        OpSys  Weight  Price_euros  \n",
       "0  Windows 10  1.39kg        603.0  \n",
       "1  Windows 10  2.45kg        699.0  \n",
       "2  Windows 10   2.6kg       2419.0  \n",
       "3  Windows 10  1.58kg        836.6  \n",
       "4  Windows 10   2.2kg       1119.0  "
      ]
     },
     "execution_count": 6,
     "metadata": {},
     "output_type": "execute_result"
    }
   ],
   "source": [
    "df.head()"
   ]
  },
  {
   "cell_type": "code",
   "execution_count": 7,
   "metadata": {},
   "outputs": [
    {
     "data": {
      "text/html": [
       "<div>\n",
       "<style scoped>\n",
       "    .dataframe tbody tr th:only-of-type {\n",
       "        vertical-align: middle;\n",
       "    }\n",
       "\n",
       "    .dataframe tbody tr th {\n",
       "        vertical-align: top;\n",
       "    }\n",
       "\n",
       "    .dataframe thead th {\n",
       "        text-align: right;\n",
       "    }\n",
       "</style>\n",
       "<table border=\"1\" class=\"dataframe\">\n",
       "  <thead>\n",
       "    <tr style=\"text-align: right;\">\n",
       "      <th></th>\n",
       "      <th>laptop_ID</th>\n",
       "      <th>Company</th>\n",
       "      <th>Product</th>\n",
       "      <th>TypeName</th>\n",
       "      <th>Inches</th>\n",
       "      <th>ScreenResolution</th>\n",
       "      <th>Cpu</th>\n",
       "      <th>Ram</th>\n",
       "      <th>Memory</th>\n",
       "      <th>Gpu</th>\n",
       "      <th>OpSys</th>\n",
       "      <th>Weight</th>\n",
       "      <th>Price_euros</th>\n",
       "    </tr>\n",
       "  </thead>\n",
       "  <tbody>\n",
       "    <tr>\n",
       "      <th>907</th>\n",
       "      <td>837</td>\n",
       "      <td>Acer</td>\n",
       "      <td>Chromebook 11</td>\n",
       "      <td>Netbook</td>\n",
       "      <td>11.6</td>\n",
       "      <td>IPS Panel 1366x768</td>\n",
       "      <td>Intel Celeron Dual Core N3060 1.6GHz</td>\n",
       "      <td>4GB</td>\n",
       "      <td>32GB Flash Storage</td>\n",
       "      <td>Intel HD Graphics 400</td>\n",
       "      <td>Chrome OS</td>\n",
       "      <td>1.35kg</td>\n",
       "      <td>355.00</td>\n",
       "    </tr>\n",
       "    <tr>\n",
       "      <th>908</th>\n",
       "      <td>626</td>\n",
       "      <td>Acer</td>\n",
       "      <td>CB5-132T-C9KK (N3160/4GB/32GB/Chrome</td>\n",
       "      <td>2 in 1 Convertible</td>\n",
       "      <td>11.6</td>\n",
       "      <td>IPS Panel Touchscreen 1366x768</td>\n",
       "      <td>Intel Celeron Quad Core N3160 1.6GHz</td>\n",
       "      <td>4GB</td>\n",
       "      <td>32GB Flash Storage</td>\n",
       "      <td>Intel HD Graphics 400</td>\n",
       "      <td>Chrome OS</td>\n",
       "      <td>1.25kg</td>\n",
       "      <td>379.00</td>\n",
       "    </tr>\n",
       "    <tr>\n",
       "      <th>909</th>\n",
       "      <td>225</td>\n",
       "      <td>Dell</td>\n",
       "      <td>Inspiron 3576</td>\n",
       "      <td>Notebook</td>\n",
       "      <td>15.6</td>\n",
       "      <td>Full HD 1920x1080</td>\n",
       "      <td>Intel Core i5 8250U 1.6GHz</td>\n",
       "      <td>8GB</td>\n",
       "      <td>256GB SSD</td>\n",
       "      <td>AMD Radeon 520</td>\n",
       "      <td>Linux</td>\n",
       "      <td>2.2kg</td>\n",
       "      <td>677.35</td>\n",
       "    </tr>\n",
       "    <tr>\n",
       "      <th>910</th>\n",
       "      <td>17</td>\n",
       "      <td>Dell</td>\n",
       "      <td>Inspiron 3567</td>\n",
       "      <td>Notebook</td>\n",
       "      <td>15.6</td>\n",
       "      <td>Full HD 1920x1080</td>\n",
       "      <td>Intel Core i7 7500U 2.7GHz</td>\n",
       "      <td>8GB</td>\n",
       "      <td>256GB SSD</td>\n",
       "      <td>AMD Radeon R5 M430</td>\n",
       "      <td>Windows 10</td>\n",
       "      <td>2.2kg</td>\n",
       "      <td>745.00</td>\n",
       "    </tr>\n",
       "    <tr>\n",
       "      <th>911</th>\n",
       "      <td>87</td>\n",
       "      <td>Dell</td>\n",
       "      <td>Inspiron 7577</td>\n",
       "      <td>Gaming</td>\n",
       "      <td>15.6</td>\n",
       "      <td>IPS Panel Full HD 1920x1080</td>\n",
       "      <td>Intel Core i7 7700HQ 2.8GHz</td>\n",
       "      <td>16GB</td>\n",
       "      <td>128GB SSD +  1TB HDD</td>\n",
       "      <td>Nvidia GeForce GTX 1050 Ti</td>\n",
       "      <td>Windows 10</td>\n",
       "      <td>2.65kg</td>\n",
       "      <td>1349.00</td>\n",
       "    </tr>\n",
       "  </tbody>\n",
       "</table>\n",
       "</div>"
      ],
      "text/plain": [
       "     laptop_ID Company                               Product  \\\n",
       "907        837    Acer                         Chromebook 11   \n",
       "908        626    Acer  CB5-132T-C9KK (N3160/4GB/32GB/Chrome   \n",
       "909        225    Dell                         Inspiron 3576   \n",
       "910         17    Dell                         Inspiron 3567   \n",
       "911         87    Dell                         Inspiron 7577   \n",
       "\n",
       "               TypeName Inches                ScreenResolution  \\\n",
       "907             Netbook   11.6              IPS Panel 1366x768   \n",
       "908  2 in 1 Convertible   11.6  IPS Panel Touchscreen 1366x768   \n",
       "909            Notebook   15.6               Full HD 1920x1080   \n",
       "910            Notebook   15.6               Full HD 1920x1080   \n",
       "911              Gaming   15.6     IPS Panel Full HD 1920x1080   \n",
       "\n",
       "                                      Cpu   Ram                Memory  \\\n",
       "907  Intel Celeron Dual Core N3060 1.6GHz   4GB    32GB Flash Storage   \n",
       "908  Intel Celeron Quad Core N3160 1.6GHz   4GB    32GB Flash Storage   \n",
       "909            Intel Core i5 8250U 1.6GHz   8GB             256GB SSD   \n",
       "910            Intel Core i7 7500U 2.7GHz   8GB             256GB SSD   \n",
       "911           Intel Core i7 7700HQ 2.8GHz  16GB  128GB SSD +  1TB HDD   \n",
       "\n",
       "                            Gpu       OpSys  Weight  Price_euros  \n",
       "907       Intel HD Graphics 400   Chrome OS  1.35kg       355.00  \n",
       "908       Intel HD Graphics 400   Chrome OS  1.25kg       379.00  \n",
       "909              AMD Radeon 520       Linux   2.2kg       677.35  \n",
       "910          AMD Radeon R5 M430  Windows 10   2.2kg       745.00  \n",
       "911  Nvidia GeForce GTX 1050 Ti  Windows 10  2.65kg      1349.00  "
      ]
     },
     "execution_count": 7,
     "metadata": {},
     "output_type": "execute_result"
    }
   ],
   "source": [
    "df.tail()"
   ]
  },
  {
   "cell_type": "code",
   "execution_count": 8,
   "metadata": {},
   "outputs": [
    {
     "data": {
      "text/plain": [
       "Index(['laptop_ID', 'Company', 'Product', 'TypeName', 'Inches',\n",
       "       'ScreenResolution', 'Cpu', 'Ram', 'Memory', 'Gpu', 'OpSys', 'Weight',\n",
       "       'Price_euros'],\n",
       "      dtype='object')"
      ]
     },
     "execution_count": 8,
     "metadata": {},
     "output_type": "execute_result"
    }
   ],
   "source": [
    "df.columns"
   ]
  },
  {
   "cell_type": "code",
   "execution_count": 9,
   "metadata": {},
   "outputs": [
    {
     "data": {
      "text/plain": [
       "(912, 13)"
      ]
     },
     "execution_count": 9,
     "metadata": {},
     "output_type": "execute_result"
    }
   ],
   "source": [
    "df.shape"
   ]
  },
  {
   "cell_type": "code",
   "execution_count": 10,
   "metadata": {},
   "outputs": [
    {
     "data": {
      "text/html": [
       "<div>\n",
       "<style scoped>\n",
       "    .dataframe tbody tr th:only-of-type {\n",
       "        vertical-align: middle;\n",
       "    }\n",
       "\n",
       "    .dataframe tbody tr th {\n",
       "        vertical-align: top;\n",
       "    }\n",
       "\n",
       "    .dataframe thead th {\n",
       "        text-align: right;\n",
       "    }\n",
       "</style>\n",
       "<table border=\"1\" class=\"dataframe\">\n",
       "  <thead>\n",
       "    <tr style=\"text-align: right;\">\n",
       "      <th></th>\n",
       "      <th>laptop_ID</th>\n",
       "      <th>Price_euros</th>\n",
       "    </tr>\n",
       "  </thead>\n",
       "  <tbody>\n",
       "    <tr>\n",
       "      <th>count</th>\n",
       "      <td>912.000000</td>\n",
       "      <td>912.000000</td>\n",
       "    </tr>\n",
       "    <tr>\n",
       "      <th>mean</th>\n",
       "      <td>663.118421</td>\n",
       "      <td>1111.262533</td>\n",
       "    </tr>\n",
       "    <tr>\n",
       "      <th>std</th>\n",
       "      <td>380.713558</td>\n",
       "      <td>682.109694</td>\n",
       "    </tr>\n",
       "    <tr>\n",
       "      <th>min</th>\n",
       "      <td>1.000000</td>\n",
       "      <td>174.000000</td>\n",
       "    </tr>\n",
       "    <tr>\n",
       "      <th>25%</th>\n",
       "      <td>339.750000</td>\n",
       "      <td>598.742500</td>\n",
       "    </tr>\n",
       "    <tr>\n",
       "      <th>50%</th>\n",
       "      <td>666.500000</td>\n",
       "      <td>977.000000</td>\n",
       "    </tr>\n",
       "    <tr>\n",
       "      <th>75%</th>\n",
       "      <td>985.250000</td>\n",
       "      <td>1472.650000</td>\n",
       "    </tr>\n",
       "    <tr>\n",
       "      <th>max</th>\n",
       "      <td>1320.000000</td>\n",
       "      <td>5499.000000</td>\n",
       "    </tr>\n",
       "  </tbody>\n",
       "</table>\n",
       "</div>"
      ],
      "text/plain": [
       "         laptop_ID  Price_euros\n",
       "count   912.000000   912.000000\n",
       "mean    663.118421  1111.262533\n",
       "std     380.713558   682.109694\n",
       "min       1.000000   174.000000\n",
       "25%     339.750000   598.742500\n",
       "50%     666.500000   977.000000\n",
       "75%     985.250000  1472.650000\n",
       "max    1320.000000  5499.000000"
      ]
     },
     "execution_count": 10,
     "metadata": {},
     "output_type": "execute_result"
    }
   ],
   "source": [
    "df.describe()"
   ]
  },
  {
   "cell_type": "code",
   "execution_count": 11,
   "metadata": {},
   "outputs": [
    {
     "data": {
      "text/html": [
       "<div>\n",
       "<style scoped>\n",
       "    .dataframe tbody tr th:only-of-type {\n",
       "        vertical-align: middle;\n",
       "    }\n",
       "\n",
       "    .dataframe tbody tr th {\n",
       "        vertical-align: top;\n",
       "    }\n",
       "\n",
       "    .dataframe thead th {\n",
       "        text-align: right;\n",
       "    }\n",
       "</style>\n",
       "<table border=\"1\" class=\"dataframe\">\n",
       "  <thead>\n",
       "    <tr style=\"text-align: right;\">\n",
       "      <th></th>\n",
       "      <th>laptop_ID</th>\n",
       "      <th>Company</th>\n",
       "      <th>Product</th>\n",
       "      <th>TypeName</th>\n",
       "      <th>Inches</th>\n",
       "      <th>ScreenResolution</th>\n",
       "      <th>Cpu</th>\n",
       "      <th>Ram</th>\n",
       "      <th>Memory</th>\n",
       "      <th>Gpu</th>\n",
       "      <th>OpSys</th>\n",
       "      <th>Weight</th>\n",
       "      <th>Price_euros</th>\n",
       "    </tr>\n",
       "  </thead>\n",
       "  <tbody>\n",
       "  </tbody>\n",
       "</table>\n",
       "</div>"
      ],
      "text/plain": [
       "Empty DataFrame\n",
       "Columns: [laptop_ID, Company, Product, TypeName, Inches, ScreenResolution, Cpu, Ram, Memory, Gpu, OpSys, Weight, Price_euros]\n",
       "Index: []"
      ]
     },
     "execution_count": 11,
     "metadata": {},
     "output_type": "execute_result"
    }
   ],
   "source": [
    "df[df.duplicated()]"
   ]
  },
  {
   "cell_type": "code",
   "execution_count": 12,
   "metadata": {},
   "outputs": [
    {
     "name": "stdout",
     "output_type": "stream",
     "text": [
      "===========Company===========\n",
      "Numero de unicos: 19\n",
      "Valores Unicos: ['Dell' 'Asus' 'HP' 'Toshiba' 'Lenovo' 'Google' 'LG' 'MSI' 'Acer'\n",
      " 'Mediacom' 'Apple' 'Microsoft' 'Fujitsu' 'Huawei' 'Xiaomi' 'Vero' 'Chuwi'\n",
      " 'Samsung' 'Razer']\n",
      "\n",
      "\n",
      "===========Product===========\n",
      "Numero de unicos: 484\n",
      "Valores Unicos: ['Inspiron 3179' 'FX550IK-DM018T (FX-9830P/8GB/1TB/Radeon' 'ZBook 15'\n",
      " 'Pavilion X360' 'Tecra A50-C-1ZV' 'Vostro 5468' '250 G6' 'Latitude 3580'\n",
      " 'IdeaPad 310-15IKB' 'IdeaPad Y700-15ACZ' 'EliteBook 840' 'Inspiron 5567'\n",
      " 'Pixelbook (Core' 'VivoBook E201NA' 'Latitude E5570' 'ProBook 650'\n",
      " 'IdeaPad Y700-15ISK' 'Yoga 500-14ISK' 'Inspiron 5579' 'Vostro 3559'\n",
      " 'Gram 15Z970' 'Yoga 11e' 'XPS 13' 'Latitude 5480' 'ProBook 450'\n",
      " 'GP62M Leopard' 'Inspiron 3567' 'Inspiron 5770' 'ThinkPad Yoga'\n",
      " 'Thinkpad P51' 'Latitude 7280' 'Legion Y720-15IKB' 'Precision M5520'\n",
      " 'Aspire 3' 'Omen 17-an012dx' 'VivoBook Max' 'E5 774G' 'Zbook 15'\n",
      " 'Inspiron 3552' 'B51-80 (i5-6200U/8GB/1TB/Radeon' 'SmartBook Edge'\n",
      " 'IdeaPad 320-17ISK' 'Inspiron 5370' 'Gram 15Z975' 'Gram 14Z970'\n",
      " 'B51-80 (i7-6500U/4GB/1008GB/FHD/W7)'\n",
      " 'FX503VD-E4022T (i7-7700HQ/8GB/1TB/GeForce' 'Probook 640'\n",
      " 'IdeaPad 320-15IKBN' '255 G6' 'Yoga 920-13IKB'\n",
      " 'V330-15IKB (i5-8250U/4GB/256GB/FHD/W10)'\n",
      " '15-bs012nv (i7-7500U/8GB/1TB/Radeon' 'TravelMate P259-G2'\n",
      " 'Aspire ES1-531' 'Thinkpad E470' 'V110-15ISK (i5-6200U/4GB/500GB/W10)'\n",
      " 'Yoga 900-13ISK' 'ThinkPad T470p' 'Thinkpad T460' 'IdeaPad 320-15IKB'\n",
      " 'IdeaPad 720S-13IKB' 'MacBook Pro' 'XPS 15' 'EliteBook 850'\n",
      " 'SmartBook 140' 'IdeaPad 110-15ISK' 'ZenBook UX310UA-FB485T'\n",
      " 'Thinkpad E570' 'Inspiron 5568' 'GT73VR Titan' 'Elitebook 840'\n",
      " 'Rog GL502VM-DS74' '15-bs024nv (i5-7200U/8GB/128GB/W10)' 'Probook 450'\n",
      " 'Thinkpad Yoga' 'EliteBook 820' 'B51-80 (i7-6500U/8GB/1008GB/Radeon'\n",
      " 'ThinkPad T470' '15-AY023na (N3710/8GB/2TB/W10)' 'Latitude 5580'\n",
      " 'Portg Z30-C-188' 'Satellite Pro' 'Thinkpad X270' 'IdeaPad 320-15ISK'\n",
      " 'GE63VR 7RE' 'Inspiron 7577' 'Extensa EX2540-58KR' 'Pavilion x360'\n",
      " 'ThinkPad E580' 'Tecra Z40-C-12X' 'Spectre x360' 'ENVY -' 'ProBook 440'\n",
      " 'Chromebook N23' 'GP72M 7REX' 'Noteb Pav' 'Extensa EX2540'\n",
      " 'X555BP-XX180T (A9-9420/4GB/1TB/Radeon' 'ZenBook UX430UN'\n",
      " 'EliteBook x360' 'Omen 17-w212nv' 'Vostro 3568' 'Surface Laptop'\n",
      " 'SP714-51 (i7-7Y75/8GB/256GB/FHD/W10)' 'PL60 7RD' 'IdeaPad 310-15ISK'\n",
      " 'ProBook 430' 'Yoga 510-15IKB' 'Tecra X40-D-10Z' 'Portege X30-D-10L'\n",
      " 'Inspiron 7567' 'V310-15ISK (i3-6006U/4GB/1TB/FHD/W10)' 'Probook 430'\n",
      " 'Latitude 5590' 'Aspire 1' 'FX502VM-AS73 (i7-7700HQ/16GB/1TB'\n",
      " 'IdeaPad 320-15AST' 'LifeBook A556' 'Portege Z30-C-1CV' 'Insprion 5767'\n",
      " 'ThinkPad T470s' 'Aspire A517-51G' 'Inspiron 5570' 'Aspire 5'\n",
      " 'Aspire ES1-572' 'FX753VE-GC093 (i7-7700HQ/12GB/1TB/GeForce'\n",
      " 'FX753VD-GC007T (i7-7700HQ/8GB/1TB' 'Thinkpad X1'\n",
      " '15-BA015wm (E2-7110/4GB/500GB/W10)' 'Portege Z30-C-1CW'\n",
      " 'Stream 11-Y000na' 'FX553VD-FY647T (i7-7700HQ/8GB/256GB/GeForce'\n",
      " 'Inspiron 5379' 'Precision 3520' 'Precision 3510'\n",
      " '15-bw009nv (A12-9720P/6GB/1TB/Radeon' 'ZBook Studio' 'ThinkPad X1'\n",
      " 'Yoga Book' 'MateBook X' 'Portege X30-D-10J' 'EliteBook Folio'\n",
      " 'ThinkPad E570' 'Legion Y520-15IKBN'\n",
      " '15-bs025nv (i5-7200U/8GB/256GB/W10)' 'Thinkpad 13' 'Yoga 910-13IKB'\n",
      " 'Mi Notebook' 'Portg Z30-C-16K' 'V310-15IKB (i5-7200U/8GB/1TB'\n",
      " 'Thinkpad T470s' 'Pro P2540UA-XO0192R' 'GL72M 7REX'\n",
      " 'GL553VE-FY082T (i7-7700HQ/8GB/1TB' 'ThinkPad T460' 'GE73VR 7RF'\n",
      " 'IdeaPad 320-15IAP' 'Zenbook 3' '14-am079na (N3710/8GB/2TB/W10)'\n",
      " 'Aspire A315-31' 'L403NA-GA013TS (N3350/4GB/32GB/W10)'\n",
      " 'FX502VM-DM105T (i7-6700HQ/8GB/1TB/GeForce'\n",
      " 'V330-15IKB (i3-7130U/4GB/128GB/FHD/W10)' 'Spectre Pro' 'Elitebook 850'\n",
      " 'IdeaPad 110-17ACL' 'TravelMate B117-M' 'IdeaPad 720S-14IKB'\n",
      " 'Zenbook UX410UA-GV027T' 'Swift 3'\n",
      " 'X540UA-DM186 (i3-6006U/4GB/1TB/FHD/Linux)' 'Pro P2540UA-XS51'\n",
      " 'Probook 440' 'Inspiron 5368' 'Pavilion 15-AW003nv'\n",
      " 'K146 (N3350/4GB/32GB/W10)' 'GL62M 7RD'\n",
      " '15-bw007nv (A10-9620P/6GB/128GB/Radeon' 'Aspire 7' 'VivoBook Flip'\n",
      " 'Tecra X40-D-10H' 'Thinkpad T570' 'Omen 15-ce007nv' 'IdeaPad 310-15ABR'\n",
      " 'G701VO-IH74K (i7-6820HK/32GB/2x'\n",
      " 'Q524UQ-BHI7T15 (i7-7500U/12GB/2TB/GeForce' 'Predator 17' 'Inspiron 7559'\n",
      " 'Latitude 7480' 'Chromebook C738T-C2EJ' 'ZBook 17' 'Envy 13-AD007nv'\n",
      " 'Alienware 17' 'Inspiron 3576' 'Latitude E5270' 'Thinkpad T560'\n",
      " 'ZenBook Flip' '15-AC110nv (i7-6500U/6GB/1TB/Radeon'\n",
      " 'SP315-51 (i7-7500U/12GB/1TB/FHD/W10)' 'Pro P2540UA-AB51' 'Envy x360'\n",
      " 'V110-15ISK (i5-6200U/4GB/128GB/W10)' 'ProBook 470'\n",
      " 'Chromebook CB5-571-C1DZ' 'X541NA (N4200/4GB/1TB/W10)'\n",
      " 'C740-C9QX (3205U/2GB/32GB/Chrome' 'L502NA-GO052T (N3350/4GB/128GB/W10)'\n",
      " 'ROG GL703VD-GC028T' 'IdeaPad 500-15ISK' 'Aspire ES1-523'\n",
      " 'V510-15IKB (i5-7200U/8GB/256GB/FHD/No'\n",
      " '15-rb013nv (E2-9000e/4GB/500GB/W10)' 'Latitude E7470' 'ProBook 640'\n",
      " 'Spin 5' '15-BW004nv (A9-9420/4GB/256GB/Radeon' 'LapBook 15.6\"'\n",
      " 'Rog GL702VM-GC017T' 'Latitude 3180'\n",
      " 'X751NV-TY001 (N4200/4GB/1TB/GeForce' 'GS70 Stealth' 'Inspiron 7779'\n",
      " 'Omen 17-W006na' 'Rog GL753VD-GC082T' 'Aspire E5-576G' '250 G5'\n",
      " 'Probook 470' 'VivoBook X540YA-XX519T' '17-bs000nv I3' 'GT80S 6QF-074US'\n",
      " 'Ideapad 700-15ISK' 'Ideapad 320-15IKBR' 'Probook 650' 'Omen 17-W295'\n",
      " 'Omen -' 'Ideapad 320-15IKBN' 'X541NA-GO020T (N3350/4GB/1TB/W10)'\n",
      " 'Elitebook 820' 'LifeBook A557' 'Vostro 5568' 'ThinkPad T570'\n",
      " 'FX753VE-GC155T (i7-7700HQ/16GB/1TB' 'GE72VR 6RF' 'TravelMate B'\n",
      " 'IdeaPad 320-15ABR' 'MacBook 12\"' 'Yoga 520-14IKB' 'Vivobook E200HA'\n",
      " 'IdeaPad 100S-14IBR' 'Aspire A315-51' 'Stream 14-AX001nv'\n",
      " 'Zenbook UX330UA-AH5Q' 'Rog Strix' 'Inspiron 5577' 'Tecra A50-C-218'\n",
      " 'Inspiron 5578' '15-bs078cl (i7-7500U/8GB/2TB/W10)' 'Portege X30-D-10V'\n",
      " '15-bs023nv (i3-6006U/4GB/1TB/FHD/W10)' 'GT72S Dominator'\n",
      " 'V110-15ISK (i3-6006U/4GB/1TB/No' 'Inspiron 7773' 'Portege A30-C-1CZ'\n",
      " 'ES1-523-84K7 (A8-7410/8GB/256GB/FHD/W10)'\n",
      " '17-X047na (i3-6006U/8GB/1TB/W10)' 'IdeaPad 320-17IKB'\n",
      " 'Pavilion 15-cb003nv' 'G752VY-GC162T (i7-6700HQ/16GB/1TB'\n",
      " '15-BW094nd (A6-9220/8GB/128GB/W10)' 'TravelMate P238-M' 'ThinkPad P51'\n",
      " 'Tecra Z40-C-161' 'Chromebook 11' 'GP62MVR 6RF' 'Yoga 730'\n",
      " '17-bs001nv (i5-7200U/6GB/2TB/Radeon' 'Ideapad 320-15ISK'\n",
      " 'Yoga 500-15ISK' 'V110-15IAP (N3350/4GB/1TB/No' 'LapBook 12.3'\n",
      " 'Thinkpad T460s' 'VivoBook E403NA' 'ThinkPad L570' 'Portege Z30-C-16H'\n",
      " 'GL62M 7RDX' 'Ideapad 520-15IKBR' 'ThinkPad L470' 'Spectre 13-V111dx'\n",
      " 'ThinkPad E480' 'GS63VR 7RF' 'EliteBook 1040' 'Aspire A515-51G'\n",
      " 'Vivobook Max' 'Aspire VX5-591G' 'Predator G9-793' 'Omen 15-AX205na'\n",
      " 'Rog G752VL-UH71T' 'Yoga 700-11ISK' 'Aspire ES1-533' 'Alienware 15'\n",
      " '110-15ACL (A6-7310/4GB/500GB/W10)' 'Vivobook X541UV-DM1217T'\n",
      " 'Yoga 720-15IKB' 'UX510UX-CN269T (i7-7500U/8GB/256GB'\n",
      " 'X556UJ-XO044T (i7-6500U/4GB/500GB/GeForce' 'GP62 7RDX'\n",
      " 'Pavilion 14-BK001nv' 'IdeaPad 120S-14IAP' 'Tecra Z50-D-10E'\n",
      " 'Inspiron 5378' 'TP501UA-CJ131T (i5-7200U/8GB/1TB/W10)'\n",
      " '15-BS078nr (i7-7500U/8GB/1TB/W10)' 'GT80S 6QE' 'GP72VR Leopard'\n",
      " 'V320-17ISK (i3-6006U/4GB/500GB/FHD/No' 'Portege Z30-C-16L'\n",
      " 'X542UQ-GO005 (i5-7200U/8GB/1TB/GeForce' 'Envy 13-AB020nr' 'Swift 7'\n",
      " 'IdeaPad 320-14IAP' '15-bs190od (i5-8250U/4GB/1TB/W10)'\n",
      " 'Rog G752VY-GC229T' 'Envy 13-AB002nv' 'Zbook 17' 'EliteBook 1030'\n",
      " 'GL62M (i5-7300HQ/8GB/1TB' 'Aspire E5-575' 'GV62 7RD-1686NL'\n",
      " 'Chromebook Flip' 'Thinkpad T460p' 'Thinkpad P51s' 'Flex 5'\n",
      " '15-ay047nv (i3-6006U/6GB/1TB/Radeon'\n",
      " '17-BS092ND (i3-6006U/8GB/256GB/W10)' 'ZenBook UX510UX-CN211T'\n",
      " 'Inspiron 7579' 'Q304UA-BHI5T11 (i5-7200U/6GB/1TB/FHD/W10)' 'GL62 6QF'\n",
      " 'Notebook 9' 'MacBook Air' 'X505BP-BR019T (A9-9420/4GB/1TB/Radeon'\n",
      " 'GL72M 7RDX' 'V310-15IKB (i5-7200U/4GB/1TB/No' 'Latitude 3380'\n",
      " 'FX553VD-DM627T (i5-7300HQ/8GB/1TB' 'R417NA-RS01 (N3350/4GB/32GB/W10)'\n",
      " 'Spectre 13-V100nv' 'ThinkPad 13' 'Yoga 720-13IKB' 'GT72VR Dominator'\n",
      " 'GP72MVR 7RFX' 'Vostro 5471' '15-bs002nv (i3-6006U/4GB/128GB/FHD/W10)'\n",
      " 'FX753VD-GC086T (i5-7300HQ/8GB/1TB' 'X541NA-GO414T (N3350/8GB/1TB/W10)'\n",
      " 'Inspiron 7560' 'GT73EVR 7RE' 'Latitude E7270'\n",
      " 'V310-15IKB (i7-7500U/4GB/1TB/FHD/W10)' 'Tecra A40-C-1E5' 'ROG Strix'\n",
      " 'Rog GL702VS-GC095T' 'Latitude 7390' 'ZenBook UX310UQ-GL026T' 'Nitro 5'\n",
      " '15-BW037na (A9-9420/4GB/1TB/Radeon'\n",
      " 'X541UA-DM1897 (i3-6006U/4GB/256GB/FHD/Linux)' 'Rog GL502VS'\n",
      " 'Latitude 3480' 'GS73VR Stealth' 'Portege Z30-C-16P' 'IdeaPad 110-15IBR'\n",
      " 'GS63VR 7RG' 'V330-15IKB (i5-8250U/8GB/256GB/FHD/W10)'\n",
      " 'Ideapad 510S-13IKB' '15-BS028nv (i3-6006U/4GB/1TB/Radeon'\n",
      " 'Thinkpad T470p' 'VivoBook Pro' 'ROG G701VO'\n",
      " 'FX753VD-GC461T (i7-7700HQ/16GB/1TB' 'ROG G752VSK-GC493T' 'ThinkPad E470'\n",
      " 'V110-15IAP (N3350/4GB/128GB/No' 'ZenBook UX305CA-UBM1' 'Chromebook X360'\n",
      " 'GE72VR Apache' 'Aspire E5-475' 'VivoBook L402NA' 'ThinkPad L460'\n",
      " 'Portege Z30T-C-133' 'Omen 15-ce006nv' 'Blade Stealth'\n",
      " '15-ba043na (A12-9700P/8GB/2TB/W10)' 'ROG G703VI-E5062T'\n",
      " 'IdeaPad 510-15IKB' 'GE72 Apache' 'Tecra A50-D-11M'\n",
      " 'X751SV-TY001T (N3710/4GB/1TB/GeForce' 'Tecra A40-C-1DF'\n",
      " 'X540SA-RBPDN09 (N3710/4GB/1TB/W10)' 'Elitebook Folio'\n",
      " '15-bs005nv (i3-6006U/4GB/1TB' 'GE73VR 7RE' 'Blade Pro'\n",
      " 'V110-15ISK (3855U/4GB/500GB/W10)' 'GE62 Apache' 'Lifebook A557'\n",
      " 'N42-20 Chromebook' 'IdeaPad 300-17ISK' 'Rog G752VL-GC088D'\n",
      " 'FX502VM-DM560T (i7-7700HQ/8GB/1TB' 'Tecra Z40-C-136' 'Aspire R7'\n",
      " 'A541NA-GO342 (N3350/4GB/500GB/Linux)' 'ZenBook UX530UQ-PRO'\n",
      " 'SmartBook 130' 'Chromebook C202SA' 'GV62M 7RD' 'Chromebook Plus'\n",
      " 'V110-15ISK (i3-6006U/4GB/500GB/W10)'\n",
      " 'X553SA-XX031T (N3050/4GB/500GB/W10)' 'Aspire A715-71G' 'Tecra A40-C-1KF'\n",
      " 'ZenBook 3' 'Tecra X40-D-10G' 'Chromebook 3' 'Chromebook C731-C78G'\n",
      " 'GE72MVR 7RG' 'Inspiron 7378' 'Tecra A50-C-21G'\n",
      " '17-ak001nv (A6-9220/4GB/500GB/Radeon' 'Smartbook 142' 'Aspire E5-774G'\n",
      " 'Inspiron 7570' 'Rog GL553VE-DS74' 'Macbook Air'\n",
      " '17-AK091ND (A9-9420/8GB/1TB/W10)'\n",
      " 'X705UV-BX074T (i3-6006U/4GB/1TB/GeForce' 'ZenBook Pro'\n",
      " 'IdeaPad Y910-17ISK' 'ZBook 15u' 'X541NA (N3350/4GB/1TB/FHD/W10)'\n",
      " '15-bw011nv (A6-9220/4GB/1TB/FHD/W10)' 'Pavilion 15-CK000nv'\n",
      " 'ThinkPad X270' 'V330-15IKB (i5-8250U/4GB/500GB/FHD/W10)' 'GT62VR 7RE'\n",
      " 'V310-15ISK (i3-6006U/4GB/128GB/FHD/No' 'Rog GL553VE-FY052T'\n",
      " 'E402WA-GA007T (E2-6110/4GB/64GB/W10' 'V310-15ISK (i5-7200U/8GB/1TB'\n",
      " 'ZenBook UX430UA' 'GS73VR 7RF'\n",
      " 'FX753VD-GC071T (i7-7700HQ/8GB/1TB/GeForce'\n",
      " 'UX430UQ-GV209R (i7-7500U/8GB/256GB/GeForce' 'ProBook x360' 'GS43VR 7RE'\n",
      " 'Pavilion Power' 'Thinkpad L560' 'ThinkPad P51s' '250 G4' 'Leopard GP72M'\n",
      " 'Latitude 5289' 'Aspire F5-573G' 'Rog GL552VW-CN470T' 'Rog GL753VE-DS74'\n",
      " 'Notebook Odyssey' 'Zenbook Flip' 'B51-80 (i5-6200U/8GB/1008GB/Radeon'\n",
      " 'Laptop MSI' 'Latitude 3570' 'Portege X20W-D-10V' 'Precision 7520'\n",
      " 'Chromebook 13' 'ROG G701VI' 'Envy 13-AB077cl'\n",
      " 'X751NV-TY001T (N4200/4GB/1TB/GeForce' 'IdeaPad 510s-14IKB'\n",
      " 'Omen 17-w207nv' 'V131 (X5-Z8350/4GB/32GB/FHD/W10)' 'Precision 5520'\n",
      " 'UX410UA-GV350T (i5-8250U/8GB/256GB/FHD/W10)'\n",
      " 'CB5-132T-C9KK (N3160/4GB/32GB/Chrome']\n",
      "\n",
      "\n",
      "===========TypeName===========\n",
      "Numero de unicos: 6\n",
      "Valores Unicos: ['2 in 1 Convertible' 'Gaming' 'Workstation' 'Notebook' 'Ultrabook'\n",
      " 'Netbook']\n",
      "\n",
      "\n",
      "===========Inches===========\n",
      "Numero de unicos: 18\n",
      "Valores Unicos: ['11.6' '15.6' '13.3' '14.0' '12.3' '17.3' '12.5' '13.9' '15.4' '13.5'\n",
      " '10.1' '13.0' '18.4' '12.0' '15.0' '11.3' '14.1' '17.0']\n",
      "\n",
      "\n",
      "===========ScreenResolution===========\n",
      "Numero de unicos: 38\n",
      "Valores Unicos: ['Touchscreen 1366x768' 'Full HD 1920x1080'\n",
      " 'IPS Panel Touchscreen 1366x768' '1366x768' 'IPS Panel Full HD 1920x1080'\n",
      " 'Touchscreen 2400x1600' 'IPS Panel Full HD / Touchscreen 1920x1080'\n",
      " 'Full HD / Touchscreen 1920x1080' 'IPS Panel 1366x768'\n",
      " '4K Ultra HD / Touchscreen 3840x2160' '1600x900'\n",
      " 'IPS Panel Quad HD+ / Touchscreen 3200x1800'\n",
      " 'IPS Panel Retina Display 2880x1800' 'Quad HD+ 3200x1800'\n",
      " 'Touchscreen / Quad HD+ 3200x1800' 'Touchscreen 2560x1440'\n",
      " 'IPS Panel 4K Ultra HD / Touchscreen 3840x2160'\n",
      " 'Quad HD+ / Touchscreen 3200x1800' 'IPS Panel Retina Display 2560x1600'\n",
      " 'Touchscreen 2256x1504' 'IPS Panel 2560x1440'\n",
      " 'IPS Panel Touchscreen 2560x1440' 'IPS Panel Touchscreen 1920x1200'\n",
      " 'IPS Panel Full HD 2160x1440' 'IPS Panel 4K Ultra HD 3840x2160'\n",
      " '1920x1080' 'Touchscreen / Full HD 1920x1080' '2560x1440'\n",
      " 'IPS Panel Retina Display 2304x1440' 'IPS Panel Quad HD+ 3200x1800'\n",
      " 'IPS Panel Retina Display 2736x1824' '4K Ultra HD 3840x2160' '1440x900'\n",
      " 'IPS Panel Quad HD+ 2560x1440' 'Touchscreen / 4K Ultra HD 3840x2160'\n",
      " 'IPS Panel Touchscreen 2400x1600' 'IPS Panel Full HD 1920x1200'\n",
      " 'IPS Panel Full HD 2560x1440']\n",
      "\n",
      "\n",
      "===========Cpu===========\n",
      "Numero de unicos: 104\n",
      "Valores Unicos: ['Intel Core M 7Y30 1.0GHz' 'AMD FX 9830P 3GHz'\n",
      " 'Intel Core i7 7700HQ 2.8GHz' 'Intel Core i5 7200U 2.5GHz'\n",
      " 'Intel Core i5 6200U 2.3GHz' 'Intel Core i3 6006U 2GHz'\n",
      " 'AMD FX 8800P 2.1GHz' 'Intel Core i7 7500U 2.7GHz'\n",
      " 'Intel Core i5 7Y57 1.2GHz' 'Intel Celeron Dual Core N3350 1.1GHz'\n",
      " 'Intel Core i5 6300U 2.4GHz' 'Intel Core i5 6300HQ 2.3GHz'\n",
      " 'Intel Core i7 6500U 2.5GHz' 'Intel Core i5 8250U 1.6GHz'\n",
      " 'Intel Celeron Quad Core N3450 1.1GHz' 'Intel Core i7 8550U 1.8GHz'\n",
      " 'Intel Core i5 7300U 2.6GHz' 'Intel Core i3 6006U 2.0GHz'\n",
      " 'Intel Core i7 7820HQ 2.9GHz' 'AMD A9-Series 9420 3GHz'\n",
      " 'Intel Pentium Quad Core N3700 1.6GHz' 'Intel Core i5 7500U 2.7GHz'\n",
      " 'AMD A6-Series 9220 2.5GHz' 'Intel Celeron Dual Core N3060 1.6GHz'\n",
      " 'Intel Core i7 7560U 2.4GHz' 'Intel Core i7 2.2GHz'\n",
      " 'Intel Atom x5-Z8350 1.44GHz' 'Intel Core i3 6100U 2.3GHz'\n",
      " 'Intel Core i7 7820HK 2.9GHz' 'Intel Core i3 7100U 2.4GHz'\n",
      " 'Intel Core i5 7200U 2.70GHz' 'Intel Pentium Quad Core N3710 1.6GHz'\n",
      " 'Intel Core i7 7600U 2.8GHz' 'Intel Core i5 7300HQ 2.5GHz'\n",
      " 'Intel Core i7 7660U 2.5GHz' 'Intel Core i5 2.3GHz'\n",
      " 'Intel Core i5 7440HQ 2.8GHz' 'Intel Core i7 7Y75 1.3GHz'\n",
      " 'Intel Core i7 8650U 1.9GHz' 'AMD A6-Series 9220 2.9GHz'\n",
      " 'Intel Core i3 7130U 2.7GHz' 'AMD E-Series 7110 1.8GHz'\n",
      " 'Intel Xeon E3-1505M V6 3GHz' 'Intel Core i5 6440HQ 2.6GHz'\n",
      " 'AMD A12-Series 9720P 2.7GHz' 'Intel Core i7 6820HQ 2.7GHz'\n",
      " 'Intel Core i7 6600U 2.6GHz' 'Intel Atom x5-Z8550 1.44GHz'\n",
      " 'Intel Core i7 6700HQ 2.6GHz' 'Intel Core M 6Y75 1.2GHz'\n",
      " 'Intel Xeon E3-1535M v6 3.1GHz' 'Intel Celeron Dual Core N3350 2GHz'\n",
      " 'AMD A4-Series 7210 2.2GHz' 'AMD E-Series E2-9000e 1.5GHz'\n",
      " 'Intel Celeron Dual Core N3050 1.6GHz' 'AMD A9-Series 9410 2.9GHz'\n",
      " 'AMD A10-Series A10-9620P 2.5GHz' 'AMD A10-Series 9600P 2.4GHz'\n",
      " 'Intel Core i7 6820HK 2.7GHz' 'Intel Celeron Dual Core 3205U 1.5GHz'\n",
      " 'Intel Pentium Quad Core N4200 1.1GHz' 'AMD A8-Series 7410 2.2GHz'\n",
      " 'AMD E-Series 9000e 1.5GHz' 'Intel Atom x5-Z8300 1.44GHz'\n",
      " 'Intel Core i7 6920HQ 2.9GHz' 'AMD A12-Series 9720P 3.6GHz'\n",
      " 'Intel Core M m3 1.2GHz' 'AMD Ryzen 1700 3GHz' 'Intel Core i5 3.1GHz'\n",
      " 'Intel Celeron Dual Core N3060 1.60GHz' 'AMD A6-Series A6-9220 2.5GHz'\n",
      " 'AMD A10-Series 9620P 2.5GHz' 'Intel Pentium Dual Core N4200 1.1GHz'\n",
      " 'Intel Core i5 7200U 2.50GHz' 'Intel Core M m7-6Y75 1.2GHz'\n",
      " 'AMD A6-Series 7310 2GHz' 'Intel Core i3 6100U 2.1GHz'\n",
      " 'Intel Core i5 7Y54 1.2GHz' 'Intel Xeon E3-1535M v5 2.9GHz'\n",
      " 'AMD A9-Series 9420 2.9GHz' 'Intel Core M 6Y54 1.1GHz'\n",
      " 'Intel Core M 1.2GHz' 'Intel Core M M7-6Y75 1.2GHz' 'Intel Core M 1.1GHz'\n",
      " 'Intel Core i5 1.6GHz' 'Intel Celeron Quad Core N3710 1.6GHz'\n",
      " 'Intel Core M 6Y30 0.9GHz' 'AMD A12-Series 9700P 2.5GHz'\n",
      " 'Intel Celeron Dual Core 3855U 1.6GHz'\n",
      " 'Intel Celeron Quad Core N3160 1.6GHz' 'Samsung Cortex A72&A53 2.0GHz'\n",
      " 'Intel Atom Z8350 1.92GHz' 'Intel Core i5 1.8GHz'\n",
      " 'Intel Core i7 6500U 2.50GHz' 'Intel Pentium Dual Core 4405U 2.1GHz'\n",
      " 'AMD Ryzen 1600 3.2GHz' 'Intel Core i5 2.0GHz'\n",
      " 'Intel Core i7 7500U 2.5GHz' 'AMD E-Series 6110 1.5GHz'\n",
      " 'AMD E-Series 9000 2.2GHz' 'Intel Core i7 7700HQ 2.7GHz'\n",
      " 'Intel Core M m3-7Y30 2.2GHz' 'Intel Pentium Dual Core 4405Y 1.5GHz'\n",
      " 'Intel Atom X5-Z8350 1.44GHz']\n",
      "\n",
      "\n",
      "===========Ram===========\n",
      "Numero de unicos: 9\n",
      "Valores Unicos: ['4GB' '8GB' '16GB' '6GB' '12GB' '2GB' '32GB' '24GB' '64GB']\n",
      "\n",
      "\n",
      "===========Memory===========\n",
      "Numero de unicos: 34\n",
      "Valores Unicos: ['128GB SSD' '1TB HDD' '256GB SSD' '500GB HDD' '512GB SSD +  1TB HDD'\n",
      " '512GB SSD' '2TB HDD' '64GB Flash Storage' '128GB SSD +  1TB HDD'\n",
      " '256GB SSD +  1TB HDD' '32GB SSD' '1.0TB Hybrid' '256GB Flash Storage'\n",
      " '32GB Flash Storage' '1TB SSD' '256GB SSD +  500GB HDD' '16GB SSD'\n",
      " '512GB SSD +  256GB SSD' '256GB SSD +  2TB HDD'\n",
      " '64GB Flash Storage +  1TB HDD' '8GB SSD' '180GB SSD' '508GB Hybrid'\n",
      " '256GB SSD +  256GB SSD' '16GB Flash Storage' '128GB SSD +  2TB HDD'\n",
      " '128GB Flash Storage' '512GB Flash Storage' '1TB SSD +  1TB HDD'\n",
      " '512GB SSD +  2TB HDD' '240GB SSD' '1.0TB HDD' '32GB HDD' '64GB SSD']\n",
      "\n",
      "\n",
      "===========Gpu===========\n",
      "Numero de unicos: 94\n",
      "Valores Unicos: ['Intel HD Graphics 615' 'AMD Radeon RX 560' 'Nvidia Quadro M2200'\n",
      " 'Intel HD Graphics 620' 'Intel HD Graphics 520' 'AMD Radeon 520'\n",
      " 'Nvidia GeForce 920MX' 'AMD Radeon R9 M385' 'AMD Radeon R7 M445'\n",
      " 'Intel HD Graphics 500' 'Nvidia GeForce GTX 960M'\n",
      " 'Intel UHD Graphics 620' 'AMD Radeon R5 M315' 'Nvidia GeForce GTX 1050'\n",
      " 'AMD Radeon R5 M430' 'AMD Radeon 530' 'Nvidia Quadro M2200M'\n",
      " 'Intel HD Graphics' 'Nvidia GeForce GTX 1060' 'Nvidia Quadro M1200'\n",
      " 'AMD Radeon R5' 'AMD Radeon RX 580' 'Nvidia GeForce 940MX'\n",
      " 'AMD Radeon R5 M330' 'AMD Radeon R4 Graphics' 'Intel HD Graphics 400'\n",
      " 'Intel Iris Plus Graphics 640' 'Nvidia GeForce GT 940MX'\n",
      " 'Intel Iris Pro Graphics' 'AMD Radeon R7 M465' 'Nvidia GeForce GTX 1070'\n",
      " 'Intel HD Graphics 630' 'Nvidia GeForce 930MX' 'Intel HD Graphics 405'\n",
      " 'AMD Radeon RX 550' 'Nvidia GeForce GTX 1050 Ti' 'AMD Radeon R5 M420'\n",
      " 'Nvidia GeForce 930MX ' 'Nvidia GeForce MX150' 'AMD Radeon R5 M420X'\n",
      " 'AMD Radeon R7 M460' 'Nvidia GeForce GTX 1050Ti' 'Nvidia GeForce MX130'\n",
      " 'AMD Radeon R2 Graphics' 'Nvidia Quadro M620' 'AMD FirePro W5130M'\n",
      " 'Nvidia Quadro M1000M' 'Intel HD Graphics 515' 'Nvidia GeForce GTX 940MX'\n",
      " 'AMD R17M-M1-70' 'Nvidia GeForce GTX 1050M' 'AMD Radeon R3'\n",
      " 'AMD Radeon R2' 'Intel Graphics 620' 'AMD Radeon R4' 'AMD Radeon R7 M440'\n",
      " 'AMD Radeon R5 430' 'Nvidia GeForce GTX 980M'\n",
      " 'Nvidia GeForce GTX 960<U+039C>' 'AMD FirePro W6150M'\n",
      " 'Intel HD Graphics 505' 'AMD Radeon R7 M360' 'Intel HD Graphics 620 '\n",
      " 'Nvidia GeForce 930M' 'Nvidia GeForce GTX 960' 'Nvidia GeForce GTX 965M'\n",
      " 'AMD Radeon R5 520' 'Nvidia GTX 980 SLI' 'Nvidia GeForce GTX 950M'\n",
      " 'Nvidia GeForce GTX 1080' 'Nvidia GeForce GTX1050 Ti' 'AMD Radeon R7'\n",
      " 'Intel Iris Plus Graphics 650' 'Nvidia GeForce 150MX' 'AMD Radeon RX 540'\n",
      " 'Nvidia GeForce 920MX ' 'Nvidia GeForce GTX 940M' 'Nvidia GeForce 920M'\n",
      " 'Nvidia Quadro M2000M' 'Nvidia Quadro M520M' 'Intel HD Graphics 6000'\n",
      " 'Nvidia GeForce 940M' 'Nvidia GeForce GTX 980 ' 'AMD Radeon R7 Graphics'\n",
      " 'Intel HD Graphics 510' 'Nvidia GeForce GTX1060' 'Intel HD Graphics 5300'\n",
      " 'ARM Mali T860 MP4' 'AMD R4 Graphics' 'AMD FirePro W4190M '\n",
      " 'Intel Iris Graphics 540' 'AMD Radeon 540' 'Nvidia GeForce GTX 970M'\n",
      " 'Nvidia GeForce 920']\n",
      "\n",
      "\n",
      "===========OpSys===========\n",
      "Numero de unicos: 9\n",
      "Valores Unicos: ['Windows 10' 'Chrome OS' 'Windows 10 S' 'Windows 7' 'Linux' 'No OS'\n",
      " 'Mac OS X' 'macOS' 'Android']\n",
      "\n",
      "\n",
      "===========Weight===========\n",
      "Numero de unicos: 160\n",
      "Valores Unicos: ['1.39kg' '2.45kg' '2.6kg' '1.58kg' '2.2kg' '1.6kg' '1.86kg' '2.06kg'\n",
      " '2.4kg' '2.5kg' '1.48kg' '2.32kg' '1.1kg' '1.2kg' '2.09kg' '2.31kg'\n",
      " '1.8kg' '2.67kg' '2.24kg' '1.08kg' '1.59kg' '1.21kg' '1.64kg' '2.1kg'\n",
      " '2.25kg' '2.8kg' '1.37kg' '1.36kg' '3.2kg' '1.78kg' '3.74kg' '2kg'\n",
      " '3.3kg' '1.45kg' '1.4kg' '1.09kg' '0.98kg' '1.95kg' '2.23kg' '1.87kg'\n",
      " '1.3kg' '1.23kg' '1.96kg' '1.7kg' '2.04kg' '1.84kg' '2.3kg' '2.08kg'\n",
      " '4.14kg' '1.91kg' '1.42kg' '1.26kg' '1.65kg' '1.88kg' '1.93kg' '2.0kg'\n",
      " '2.65kg' '1.47kg' '1.29kg' '1.34kg' '1.63kg' '1.25kg' '2.7kg' '2.03kg'\n",
      " '1.28kg' '3.35kg' '2.18kg' '1.252kg' '1.9kg' '1.49kg' '1.05kg' '2.62kg'\n",
      " '1.85kg' '2.36kg' '1.32kg' '3kg' '2.02kg' '1.13kg' '1.17kg' '1.62kg'\n",
      " '0.69kg' '0.97kg' '1.54kg' '2.07kg' '1.44kg' '1.38kg' '1.90kg' '2.37kg'\n",
      " '1.70kg' '1.10kg' '1.94kg' '1.5kg' '2.05kg' '1.22kg' '1.24kg' '3.58kg'\n",
      " '4.2kg' '2.59kg' '3.0kg' '4.42kg' '2.19kg' '2.15kg' '2.20kg' '2.33kg'\n",
      " '2.9kg' '1.89kg' '2.73kg' '3.31kg' '2.77kg' '2.75kg' '4.4kg' '4.36kg'\n",
      " '1.98kg' '0.92kg' '1.74kg' '1.43kg' '3.14kg' '2.56kg' '3.78kg' '2.79kg'\n",
      " '4.3kg' '1.19kg' '2.71kg' '2.17kg' '1.11kg' '1.75kg' '1.55kg' '4.33kg'\n",
      " '3.49kg' '2.63kg' '1.71kg' '4.5kg' '1.12kg' '1.56kg' '1.16kg' '0.920kg'\n",
      " '2.191kg' '0.81kg' '1.35kg' '1.68kg' '2.14kg' '2.34kg' '1.76kg' '2.43kg'\n",
      " '4.7kg' '2.13kg' '2.26kg' '4kg' '1.15kg' '1.14kg' '1.18kg' '4.6kg'\n",
      " '1.83kg' '2.94kg' '2.38kg' '1.27kg' '1.31kg' '2.21kg' '2.99kg' '3.8kg']\n",
      "\n",
      "\n"
     ]
    }
   ],
   "source": [
    "df_ob = df.select_dtypes('object')\n",
    "for col in df_ob.columns:\n",
    "    print(f'==========={col}===========')\n",
    "    print(f'Numero de unicos: {df[col].nunique()}')\n",
    "    print(f'Valores Unicos: {df[col].unique()}')\n",
    "    print('\\n')"
   ]
  },
  {
   "cell_type": "code",
   "execution_count": 13,
   "metadata": {},
   "outputs": [],
   "source": [
    "df['Inches'] = df['Inches'].astype(float)"
   ]
  },
  {
   "cell_type": "code",
   "execution_count": 14,
   "metadata": {},
   "outputs": [
    {
     "data": {
      "text/html": [
       "<div>\n",
       "<style scoped>\n",
       "    .dataframe tbody tr th:only-of-type {\n",
       "        vertical-align: middle;\n",
       "    }\n",
       "\n",
       "    .dataframe tbody tr th {\n",
       "        vertical-align: top;\n",
       "    }\n",
       "\n",
       "    .dataframe thead th {\n",
       "        text-align: right;\n",
       "    }\n",
       "</style>\n",
       "<table border=\"1\" class=\"dataframe\">\n",
       "  <thead>\n",
       "    <tr style=\"text-align: right;\">\n",
       "      <th></th>\n",
       "      <th>laptop_ID</th>\n",
       "      <th>Company</th>\n",
       "      <th>Product</th>\n",
       "      <th>TypeName</th>\n",
       "      <th>Inches</th>\n",
       "      <th>ScreenResolution</th>\n",
       "      <th>Cpu</th>\n",
       "      <th>Ram</th>\n",
       "      <th>Memory</th>\n",
       "      <th>Gpu</th>\n",
       "      <th>OpSys</th>\n",
       "      <th>Weight</th>\n",
       "      <th>Price_euros</th>\n",
       "    </tr>\n",
       "  </thead>\n",
       "  <tbody>\n",
       "    <tr>\n",
       "      <th>0</th>\n",
       "      <td>599</td>\n",
       "      <td>Dell</td>\n",
       "      <td>Inspiron 3179</td>\n",
       "      <td>2 in 1 Convertible</td>\n",
       "      <td>11.6</td>\n",
       "      <td>Touchscreen 1366x768</td>\n",
       "      <td>Intel Core M 7Y30 1.0GHz</td>\n",
       "      <td>4GB</td>\n",
       "      <td>128GB SSD</td>\n",
       "      <td>Intel HD Graphics 615</td>\n",
       "      <td>Windows 10</td>\n",
       "      <td>1.39kg</td>\n",
       "      <td>603.00</td>\n",
       "    </tr>\n",
       "    <tr>\n",
       "      <th>1</th>\n",
       "      <td>92</td>\n",
       "      <td>Asus</td>\n",
       "      <td>FX550IK-DM018T (FX-9830P/8GB/1TB/Radeon</td>\n",
       "      <td>Gaming</td>\n",
       "      <td>15.6</td>\n",
       "      <td>Full HD 1920x1080</td>\n",
       "      <td>AMD FX 9830P 3GHz</td>\n",
       "      <td>8GB</td>\n",
       "      <td>1TB HDD</td>\n",
       "      <td>AMD Radeon RX 560</td>\n",
       "      <td>Windows 10</td>\n",
       "      <td>2.45kg</td>\n",
       "      <td>699.00</td>\n",
       "    </tr>\n",
       "    <tr>\n",
       "      <th>2</th>\n",
       "      <td>744</td>\n",
       "      <td>HP</td>\n",
       "      <td>ZBook 15</td>\n",
       "      <td>Workstation</td>\n",
       "      <td>15.6</td>\n",
       "      <td>Full HD 1920x1080</td>\n",
       "      <td>Intel Core i7 7700HQ 2.8GHz</td>\n",
       "      <td>16GB</td>\n",
       "      <td>256GB SSD</td>\n",
       "      <td>Nvidia Quadro M2200</td>\n",
       "      <td>Windows 10</td>\n",
       "      <td>2.6kg</td>\n",
       "      <td>2419.00</td>\n",
       "    </tr>\n",
       "    <tr>\n",
       "      <th>3</th>\n",
       "      <td>729</td>\n",
       "      <td>HP</td>\n",
       "      <td>Pavilion X360</td>\n",
       "      <td>2 in 1 Convertible</td>\n",
       "      <td>13.3</td>\n",
       "      <td>IPS Panel Touchscreen 1366x768</td>\n",
       "      <td>Intel Core i5 7200U 2.5GHz</td>\n",
       "      <td>8GB</td>\n",
       "      <td>256GB SSD</td>\n",
       "      <td>Intel HD Graphics 620</td>\n",
       "      <td>Windows 10</td>\n",
       "      <td>1.58kg</td>\n",
       "      <td>836.60</td>\n",
       "    </tr>\n",
       "    <tr>\n",
       "      <th>4</th>\n",
       "      <td>957</td>\n",
       "      <td>Toshiba</td>\n",
       "      <td>Tecra A50-C-1ZV</td>\n",
       "      <td>Notebook</td>\n",
       "      <td>15.6</td>\n",
       "      <td>1366x768</td>\n",
       "      <td>Intel Core i5 6200U 2.3GHz</td>\n",
       "      <td>8GB</td>\n",
       "      <td>256GB SSD</td>\n",
       "      <td>Intel HD Graphics 520</td>\n",
       "      <td>Windows 10</td>\n",
       "      <td>2.2kg</td>\n",
       "      <td>1119.00</td>\n",
       "    </tr>\n",
       "    <tr>\n",
       "      <th>...</th>\n",
       "      <td>...</td>\n",
       "      <td>...</td>\n",
       "      <td>...</td>\n",
       "      <td>...</td>\n",
       "      <td>...</td>\n",
       "      <td>...</td>\n",
       "      <td>...</td>\n",
       "      <td>...</td>\n",
       "      <td>...</td>\n",
       "      <td>...</td>\n",
       "      <td>...</td>\n",
       "      <td>...</td>\n",
       "      <td>...</td>\n",
       "    </tr>\n",
       "    <tr>\n",
       "      <th>907</th>\n",
       "      <td>837</td>\n",
       "      <td>Acer</td>\n",
       "      <td>Chromebook 11</td>\n",
       "      <td>Netbook</td>\n",
       "      <td>11.6</td>\n",
       "      <td>IPS Panel 1366x768</td>\n",
       "      <td>Intel Celeron Dual Core N3060 1.6GHz</td>\n",
       "      <td>4GB</td>\n",
       "      <td>32GB Flash Storage</td>\n",
       "      <td>Intel HD Graphics 400</td>\n",
       "      <td>Chrome OS</td>\n",
       "      <td>1.35kg</td>\n",
       "      <td>355.00</td>\n",
       "    </tr>\n",
       "    <tr>\n",
       "      <th>908</th>\n",
       "      <td>626</td>\n",
       "      <td>Acer</td>\n",
       "      <td>CB5-132T-C9KK (N3160/4GB/32GB/Chrome</td>\n",
       "      <td>2 in 1 Convertible</td>\n",
       "      <td>11.6</td>\n",
       "      <td>IPS Panel Touchscreen 1366x768</td>\n",
       "      <td>Intel Celeron Quad Core N3160 1.6GHz</td>\n",
       "      <td>4GB</td>\n",
       "      <td>32GB Flash Storage</td>\n",
       "      <td>Intel HD Graphics 400</td>\n",
       "      <td>Chrome OS</td>\n",
       "      <td>1.25kg</td>\n",
       "      <td>379.00</td>\n",
       "    </tr>\n",
       "    <tr>\n",
       "      <th>909</th>\n",
       "      <td>225</td>\n",
       "      <td>Dell</td>\n",
       "      <td>Inspiron 3576</td>\n",
       "      <td>Notebook</td>\n",
       "      <td>15.6</td>\n",
       "      <td>Full HD 1920x1080</td>\n",
       "      <td>Intel Core i5 8250U 1.6GHz</td>\n",
       "      <td>8GB</td>\n",
       "      <td>256GB SSD</td>\n",
       "      <td>AMD Radeon 520</td>\n",
       "      <td>Linux</td>\n",
       "      <td>2.2kg</td>\n",
       "      <td>677.35</td>\n",
       "    </tr>\n",
       "    <tr>\n",
       "      <th>910</th>\n",
       "      <td>17</td>\n",
       "      <td>Dell</td>\n",
       "      <td>Inspiron 3567</td>\n",
       "      <td>Notebook</td>\n",
       "      <td>15.6</td>\n",
       "      <td>Full HD 1920x1080</td>\n",
       "      <td>Intel Core i7 7500U 2.7GHz</td>\n",
       "      <td>8GB</td>\n",
       "      <td>256GB SSD</td>\n",
       "      <td>AMD Radeon R5 M430</td>\n",
       "      <td>Windows 10</td>\n",
       "      <td>2.2kg</td>\n",
       "      <td>745.00</td>\n",
       "    </tr>\n",
       "    <tr>\n",
       "      <th>911</th>\n",
       "      <td>87</td>\n",
       "      <td>Dell</td>\n",
       "      <td>Inspiron 7577</td>\n",
       "      <td>Gaming</td>\n",
       "      <td>15.6</td>\n",
       "      <td>IPS Panel Full HD 1920x1080</td>\n",
       "      <td>Intel Core i7 7700HQ 2.8GHz</td>\n",
       "      <td>16GB</td>\n",
       "      <td>128GB SSD +  1TB HDD</td>\n",
       "      <td>Nvidia GeForce GTX 1050 Ti</td>\n",
       "      <td>Windows 10</td>\n",
       "      <td>2.65kg</td>\n",
       "      <td>1349.00</td>\n",
       "    </tr>\n",
       "  </tbody>\n",
       "</table>\n",
       "<p>912 rows × 13 columns</p>\n",
       "</div>"
      ],
      "text/plain": [
       "     laptop_ID  Company                                  Product  \\\n",
       "0          599     Dell                            Inspiron 3179   \n",
       "1           92     Asus  FX550IK-DM018T (FX-9830P/8GB/1TB/Radeon   \n",
       "2          744       HP                                 ZBook 15   \n",
       "3          729       HP                            Pavilion X360   \n",
       "4          957  Toshiba                          Tecra A50-C-1ZV   \n",
       "..         ...      ...                                      ...   \n",
       "907        837     Acer                            Chromebook 11   \n",
       "908        626     Acer     CB5-132T-C9KK (N3160/4GB/32GB/Chrome   \n",
       "909        225     Dell                            Inspiron 3576   \n",
       "910         17     Dell                            Inspiron 3567   \n",
       "911         87     Dell                            Inspiron 7577   \n",
       "\n",
       "               TypeName  Inches                ScreenResolution  \\\n",
       "0    2 in 1 Convertible    11.6            Touchscreen 1366x768   \n",
       "1                Gaming    15.6               Full HD 1920x1080   \n",
       "2           Workstation    15.6               Full HD 1920x1080   \n",
       "3    2 in 1 Convertible    13.3  IPS Panel Touchscreen 1366x768   \n",
       "4              Notebook    15.6                        1366x768   \n",
       "..                  ...     ...                             ...   \n",
       "907             Netbook    11.6              IPS Panel 1366x768   \n",
       "908  2 in 1 Convertible    11.6  IPS Panel Touchscreen 1366x768   \n",
       "909            Notebook    15.6               Full HD 1920x1080   \n",
       "910            Notebook    15.6               Full HD 1920x1080   \n",
       "911              Gaming    15.6     IPS Panel Full HD 1920x1080   \n",
       "\n",
       "                                      Cpu   Ram                Memory  \\\n",
       "0                Intel Core M 7Y30 1.0GHz   4GB             128GB SSD   \n",
       "1                       AMD FX 9830P 3GHz   8GB               1TB HDD   \n",
       "2             Intel Core i7 7700HQ 2.8GHz  16GB             256GB SSD   \n",
       "3              Intel Core i5 7200U 2.5GHz   8GB             256GB SSD   \n",
       "4              Intel Core i5 6200U 2.3GHz   8GB             256GB SSD   \n",
       "..                                    ...   ...                   ...   \n",
       "907  Intel Celeron Dual Core N3060 1.6GHz   4GB    32GB Flash Storage   \n",
       "908  Intel Celeron Quad Core N3160 1.6GHz   4GB    32GB Flash Storage   \n",
       "909            Intel Core i5 8250U 1.6GHz   8GB             256GB SSD   \n",
       "910            Intel Core i7 7500U 2.7GHz   8GB             256GB SSD   \n",
       "911           Intel Core i7 7700HQ 2.8GHz  16GB  128GB SSD +  1TB HDD   \n",
       "\n",
       "                            Gpu       OpSys  Weight  Price_euros  \n",
       "0         Intel HD Graphics 615  Windows 10  1.39kg       603.00  \n",
       "1             AMD Radeon RX 560  Windows 10  2.45kg       699.00  \n",
       "2           Nvidia Quadro M2200  Windows 10   2.6kg      2419.00  \n",
       "3         Intel HD Graphics 620  Windows 10  1.58kg       836.60  \n",
       "4         Intel HD Graphics 520  Windows 10   2.2kg      1119.00  \n",
       "..                          ...         ...     ...          ...  \n",
       "907       Intel HD Graphics 400   Chrome OS  1.35kg       355.00  \n",
       "908       Intel HD Graphics 400   Chrome OS  1.25kg       379.00  \n",
       "909              AMD Radeon 520       Linux   2.2kg       677.35  \n",
       "910          AMD Radeon R5 M430  Windows 10   2.2kg       745.00  \n",
       "911  Nvidia GeForce GTX 1050 Ti  Windows 10  2.65kg      1349.00  \n",
       "\n",
       "[912 rows x 13 columns]"
      ]
     },
     "execution_count": 14,
     "metadata": {},
     "output_type": "execute_result"
    }
   ],
   "source": [
    "df"
   ]
  },
  {
   "cell_type": "code",
   "execution_count": 15,
   "metadata": {},
   "outputs": [],
   "source": [
    "df['Ram(GB)'] = df['Ram'].replace('GB','',regex=True)"
   ]
  },
  {
   "cell_type": "markdown",
   "metadata": {},
   "source": [
    "### Comenzamos con la limpieza de datos de la columna Product."
   ]
  },
  {
   "cell_type": "code",
   "execution_count": 16,
   "metadata": {},
   "outputs": [],
   "source": [
    "df['Product'] = df['Product'].str.replace(r'[()\\-/]', ' ', regex=True)\n",
    " # quitamos caracteres especiales"
   ]
  },
  {
   "cell_type": "code",
   "execution_count": 17,
   "metadata": {},
   "outputs": [],
   "source": [
    "df['Product'] = df.apply(lambda row: ' '.join([palabra for palabra in row['Product'].split() if palabra not in row['Cpu']]), axis=1)\n",
    "# Con este lambda quitamos todo lo que esta en la columna CPU de la columna Product"
   ]
  },
  {
   "cell_type": "code",
   "execution_count": 18,
   "metadata": {},
   "outputs": [],
   "source": [
    "sig = r'\\b(\\d+GB|\\d+TB|FX-\\d+|i[3579]-\\d{4}\\w*|Celeron|Radeon|GeForce|Intel HD|Linux|Chrome|W10|W7|FHD|No|12.3)\\b'\n",
    "df['Product'] = df['Product'].str.replace(sig, '', regex=True).str.strip()\n",
    "# Quitamos las memorias, procesadores y algunos sistemas operativos"
   ]
  },
  {
   "cell_type": "code",
   "execution_count": 19,
   "metadata": {},
   "outputs": [],
   "source": [
    "patron = r'\\d+(\\.\\d+)?\\\"'\n",
    "df['Product'] = df['Product'].apply(lambda x: re.sub(patron,'',x))\n",
    "# Quitamos del producto las inchas ya que las tenemos en una columna aparte."
   ]
  },
  {
   "cell_type": "markdown",
   "metadata": {},
   "source": [
    "En esta columna no dividimos nada, solo quitamos datos que ya teniamos en otras columnas para simplificarlos."
   ]
  },
  {
   "cell_type": "markdown",
   "metadata": {},
   "source": [
    "### Pasamos a la columna TypeName"
   ]
  },
  {
   "cell_type": "code",
   "execution_count": 20,
   "metadata": {},
   "outputs": [],
   "source": [
    "df['TypeName'] = df['TypeName'].apply(lambda x: 'Convertible' if x == '2 in 1 Convertible' else x )\n",
    "\n",
    "# Siguiendo el patron de los otros TypeName elinimanos el \"2 in 1\" del TypeName, para solo usar 1 palabra."
   ]
  },
  {
   "cell_type": "markdown",
   "metadata": {},
   "source": [
    "### Columna ScreenResolution:"
   ]
  },
  {
   "cell_type": "code",
   "execution_count": 21,
   "metadata": {},
   "outputs": [],
   "source": [
    "df['Resolution'] = df['ScreenResolution'].str.extract(r'(\\d+x\\d+)')\n",
    "# Separamos la Resolucion.\n",
    "\n",
    "df['PanelType'] = df['ScreenResolution'].str.findall(r'(IPS Panel|Retina Display|Quad HD\\+|Full HD|4K Ultra HD)').str.join(', ')\n",
    "df['PanelType'] = df['PanelType'].apply(lambda x: 'No penal type' if x == \"\" else x)\n",
    "# separamos el tipo de panel\n",
    "\n",
    "df['Touchscreen'] = df['ScreenResolution'].str.contains(r'Touchscreen', case=False, na=False)\n",
    "df['Touchscreen'] = df['Touchscreen'].apply(lambda x: 1 if x else 0)\n",
    "# Transformamos a tipo bool si es touch o no.\n"
   ]
  },
  {
   "cell_type": "code",
   "execution_count": 22,
   "metadata": {},
   "outputs": [],
   "source": [
    "df = df[['laptop_ID','Company','Product','TypeName','Inches','Resolution','PanelType','Touchscreen','Cpu'\n",
    "         ,'Ram(GB)','Memory','Gpu','OpSys','Weight']]\n",
    "# Ordenamos el DataFrame\n"
   ]
  },
  {
   "cell_type": "markdown",
   "metadata": {},
   "source": [
    "Esta columna la separamos en 3: Resolution, PanelType y TouchScreen. El ultimo booleano."
   ]
  },
  {
   "cell_type": "markdown",
   "metadata": {},
   "source": [
    "### Columna CPU"
   ]
  },
  {
   "cell_type": "code",
   "execution_count": 23,
   "metadata": {},
   "outputs": [
    {
     "name": "stderr",
     "output_type": "stream",
     "text": [
      "C:\\Users\\Abdon.RAMIREZ-BRICEN\\AppData\\Local\\Temp\\ipykernel_39996\\1311523093.py:2: SettingWithCopyWarning: \n",
      "A value is trying to be set on a copy of a slice from a DataFrame.\n",
      "Try using .loc[row_indexer,col_indexer] = value instead\n",
      "\n",
      "See the caveats in the documentation: https://pandas.pydata.org/pandas-docs/stable/user_guide/indexing.html#returning-a-view-versus-a-copy\n",
      "  df['ProcessorSpeed(GHz)'] = df['Cpu'].str.extract(f'{(pat)}')\n"
     ]
    }
   ],
   "source": [
    "pat = r'\\b(\\d+(?:\\.\\d+)?)\\s*GHz\\b'\n",
    "df['ProcessorSpeed(GHz)'] = df['Cpu'].str.extract(f'{(pat)}')\n",
    "\n",
    "# Primero extraemos la velocidad del procesador."
   ]
  },
  {
   "cell_type": "code",
   "execution_count": 24,
   "metadata": {},
   "outputs": [
    {
     "name": "stderr",
     "output_type": "stream",
     "text": [
      "C:\\Users\\Abdon.RAMIREZ-BRICEN\\AppData\\Local\\Temp\\ipykernel_39996\\3472316383.py:1: SettingWithCopyWarning: \n",
      "A value is trying to be set on a copy of a slice from a DataFrame.\n",
      "Try using .loc[row_indexer,col_indexer] = value instead\n",
      "\n",
      "See the caveats in the documentation: https://pandas.pydata.org/pandas-docs/stable/user_guide/indexing.html#returning-a-view-versus-a-copy\n",
      "  df['Cpu'] = df.apply(lambda row: ' '.join([palabra for palabra in row['Cpu'].split() if palabra not in row['ProcessorSpeed(GHz)']]),axis=1)\n",
      "C:\\Users\\Abdon.RAMIREZ-BRICEN\\AppData\\Local\\Temp\\ipykernel_39996\\3472316383.py:2: SettingWithCopyWarning: \n",
      "A value is trying to be set on a copy of a slice from a DataFrame.\n",
      "Try using .loc[row_indexer,col_indexer] = value instead\n",
      "\n",
      "See the caveats in the documentation: https://pandas.pydata.org/pandas-docs/stable/user_guide/indexing.html#returning-a-view-versus-a-copy\n",
      "  df['ProcessorSpeed(GHz)'] = df['ProcessorSpeed(GHz)'].astype(float)\n"
     ]
    }
   ],
   "source": [
    "df['Cpu'] = df.apply(lambda row: ' '.join([palabra for palabra in row['Cpu'].split() if palabra not in row['ProcessorSpeed(GHz)']]),axis=1)\n",
    "df['ProcessorSpeed(GHz)'] = df['ProcessorSpeed(GHz)'].astype(float)\n",
    "# Eliminamos la velocidad de la columna Cpu"
   ]
  },
  {
   "cell_type": "code",
   "execution_count": 25,
   "metadata": {},
   "outputs": [
    {
     "name": "stderr",
     "output_type": "stream",
     "text": [
      "C:\\Users\\Abdon.RAMIREZ-BRICEN\\AppData\\Local\\Temp\\ipykernel_39996\\96076574.py:2: SettingWithCopyWarning: \n",
      "A value is trying to be set on a copy of a slice from a DataFrame.\n",
      "Try using .loc[row_indexer,col_indexer] = value instead\n",
      "\n",
      "See the caveats in the documentation: https://pandas.pydata.org/pandas-docs/stable/user_guide/indexing.html#returning-a-view-versus-a-copy\n",
      "  df['ProcessorType'] = df['Cpu'].str.extract(r'(i3|i5|i7|i9|AMD Ryzen|AMD A4-Series|AMD A9-Series|AMD E-Series|AMD A6-Series|AMD|Xeon|FX|Celeron|Pentium|Atom|Cortex|M)')\n"
     ]
    }
   ],
   "source": [
    "# Extraemos el tipo de procesador (i3, i5, i7, etc.)\n",
    "df['ProcessorType'] = df['Cpu'].str.extract(r'(i3|i5|i7|i9|AMD Ryzen|AMD A4-Series|AMD A9-Series|AMD E-Series|AMD A6-Series|AMD|Xeon|FX|Celeron|Pentium|Atom|Cortex|M)')"
   ]
  },
  {
   "cell_type": "code",
   "execution_count": 26,
   "metadata": {},
   "outputs": [],
   "source": [
    "df['Core'] = df['Cpu'].str.extract(r'\\b(Dual|Quad|Core)')\n",
    "df['Core'] = df['Core'].map({'Core':0,'Dual':2,'Quad':4})\n",
    "df['Core'] = df['Core'].fillna(0) \n",
    "# Extraemos los nucleos de la columna Cpu, y les asignamos un numero."
   ]
  },
  {
   "cell_type": "code",
   "execution_count": 27,
   "metadata": {},
   "outputs": [],
   "source": [
    "df['Cpu'] = df['Cpu'].replace(pat,'',regex=True)"
   ]
  },
  {
   "cell_type": "code",
   "execution_count": 28,
   "metadata": {},
   "outputs": [],
   "source": [
    "def obtener_identificador(cpu):\n",
    "    if not isinstance(cpu, str):\n",
    "        return None\n",
    "    palabras = cpu.split()\n",
    "    if not palabras:\n",
    "        return None\n",
    "    if len(palabras[-1]) > 2:\n",
    "        return palabras[-1]\n",
    "    elif len(palabras) >= 2:\n",
    "        return palabras[-2]\n",
    "    else:\n",
    "        return None\n",
    "    \n",
    "    # Descubrimos que la mayoria de veces, la palabra final es el modelo de identificacion. Creamos esta funcion para extraerla."
   ]
  },
  {
   "cell_type": "code",
   "execution_count": 29,
   "metadata": {},
   "outputs": [],
   "source": [
    "df['ModelIdentifier'] = df['Cpu'].apply(obtener_identificador) # Aplicamos la funcion\n",
    "df['ModelIdentifier'] = df['ModelIdentifier'].apply(lambda x: '7200' if x == 'M' or x == 'Core' else x)\n",
    "\n",
    "# Quitamos 'M' y 'Core' que no corresponden a modelos de identificacion."
   ]
  },
  {
   "cell_type": "markdown",
   "metadata": {},
   "source": [
    "La columna Cpu la dividimos en 4: ProcessorSpeed, ProcessorType, ModelIdentifier y Core. Core le pusimos valor a los que especificaban el nuemro de nucleos, ejemplo: los que solo tienen 'core', no especifica esos pusimos 0, dual con 2 y Quad 4."
   ]
  },
  {
   "cell_type": "code",
   "execution_count": 30,
   "metadata": {},
   "outputs": [],
   "source": [
    "df = df[['laptop_ID', 'Company', 'Product', 'TypeName', 'Inches', 'Resolution',\n",
    "       'PanelType', 'Touchscreen', 'ProcessorType','ModelIdentifier','Core','ProcessorSpeed(GHz)', 'Ram(GB)', 'Memory', 'Gpu', 'OpSys',\n",
    "       'Weight']]\n",
    "\n",
    "# Ordenamos el DataFrame"
   ]
  },
  {
   "cell_type": "markdown",
   "metadata": {},
   "source": [
    "### Columna Memory"
   ]
  },
  {
   "cell_type": "code",
   "execution_count": 31,
   "metadata": {},
   "outputs": [],
   "source": [
    "df['Memory SSD GB'] = df['Memory'].apply(lambda x: x if 'SSD' in x else 0).str.split('+').str[0].fillna(0)\n",
    "df['Memory HDD GB'] = df['Memory'].apply(lambda x: x if 'HDD' in x else 0).str.split('+').str[-1].fillna(0)\n",
    "df['Memory FL STO GB'] = df['Memory'].apply(lambda x: x if 'Flash' in x else 0).str.split('+').str[0].fillna(0)\n",
    "df['Memory Hybrid GB'] = df['Memory'].apply(lambda x: x if 'Hybrid' in x else 0)\n",
    "# Separamos las memorias por tipo"
   ]
  },
  {
   "cell_type": "code",
   "execution_count": 32,
   "metadata": {},
   "outputs": [],
   "source": [
    "df['Memory SSD GB'] = df['Memory SSD GB'].str.replace(r'[a-zA-Z]','',regex=True).str.strip().astype(float).fillna(0)\n",
    "df['Memory SSD GB'] = df['Memory SSD GB'].apply(lambda x: x*1000 if x <= 2 else x)\n",
    "df['Memory HDD GB'] = df['Memory HDD GB'].str.replace(r'[a-zA-Z]','',regex=True).str.strip().astype(float).fillna(0)\n",
    "df['Memory HDD GB'] = df['Memory HDD GB'].apply(lambda x: x*1000 if x <= 2 else x)\n",
    "df['Memory FL STO GB'] = df['Memory FL STO GB'].str.replace(r'[a-zA-Z]','',regex=True).str.strip().astype(float).fillna(0)\n",
    "df['Memory FL STO GB'] = df['Memory FL STO GB'].apply(lambda x: x*1000 if x <= 2 else x)\n",
    "df['Memory Hybrid GB'] = df['Memory Hybrid GB'].str.replace(r'[a-zA-Z]','',regex=True).str.strip().astype(float).fillna(0)\n",
    "df['Memory Hybrid GB'] = df['Memory Hybrid GB'].apply(lambda x: x*1000 if x <= 2 else x)\n",
    "\n",
    "# Eliminamos todas las letras para dejar solo dato numerico en las columnas."
   ]
  },
  {
   "cell_type": "code",
   "execution_count": 33,
   "metadata": {},
   "outputs": [],
   "source": [
    "df = df[['laptop_ID', 'Company', 'Product', 'TypeName', 'Inches', 'Resolution',\n",
    "       'PanelType', 'Touchscreen', 'ProcessorType','ModelIdentifier','Core','ProcessorSpeed(GHz)', 'Ram(GB)', 'Memory SSD GB','Memory HDD GB','Memory FL STO GB','Memory Hybrid GB', 'Gpu', 'OpSys',\n",
    "       'Weight']]"
   ]
  },
  {
   "cell_type": "markdown",
   "metadata": {},
   "source": [
    "La columna Memory la dividimos en 2: Memory 1 y Memory 2. Los pc que no tenian Memory 2 los llenamos con \"No Memory 2\""
   ]
  },
  {
   "cell_type": "markdown",
   "metadata": {},
   "source": [
    "### Columna Gpu"
   ]
  },
  {
   "cell_type": "code",
   "execution_count": 34,
   "metadata": {},
   "outputs": [],
   "source": [
    "df.loc[:,'Gpu'] = df['Gpu'].str.replace(r'^(Intel|AMD)\\s*', '', case=False, regex=True).str.strip()\n",
    "# Quitamos Intel y AMD de la columna Gpu debido a que este dato lo tenemos en otra columna.\n",
    "\n",
    "df[['GpuBrand', 'GpuModel']] = df['Gpu'].str.extract(r'([A-Za-z]+(?:\\s+[A-Za-z]+)*)\\s*([\\d\\w]+)?')\n",
    "# Separamos entre marca y modelo la columna GPU.\n",
    "df['GpuModel'] = df['GpuModel'].fillna('0')"
   ]
  },
  {
   "cell_type": "code",
   "execution_count": 35,
   "metadata": {},
   "outputs": [
    {
     "data": {
      "text/plain": [
       "array(['615', '560', '2200', '620', '520', '920MX', '9', '7', '500',\n",
       "       '960M', '5', '1050', '530', '2200M', '0', '1060', '1200', '580',\n",
       "       '940MX', '4', '400', '640', '1070', '630', '930MX', '405', '550',\n",
       "       '150', '1050Ti', '130', '2', '5130M', '1000M', '515', '17M',\n",
       "       '1050M', '3', '980M', '960', '6150M', '505', '930M', '965M', '980',\n",
       "       '950M', '1080', '650', '150MX', '540', '940M', '920M', '2000M',\n",
       "       '520M', '6000', '510', '5300', '860', '4190M', '970M', '920'],\n",
       "      dtype=object)"
      ]
     },
     "execution_count": 35,
     "metadata": {},
     "output_type": "execute_result"
    }
   ],
   "source": [
    "df['GpuModel'].unique()"
   ]
  },
  {
   "cell_type": "code",
   "execution_count": 36,
   "metadata": {},
   "outputs": [],
   "source": [
    "df = df[['laptop_ID', 'Company', 'Product', 'TypeName', 'Inches', 'Resolution',\n",
    "       'PanelType', 'Touchscreen', 'ProcessorType','ModelIdentifier','Core','ProcessorSpeed(GHz)', \n",
    "       'Ram(GB)', 'Memory SSD GB','Memory HDD GB','Memory FL STO GB','Memory Hybrid GB', 'GpuBrand','GpuModel', 'OpSys',\n",
    "       'Weight']]"
   ]
  },
  {
   "cell_type": "markdown",
   "metadata": {},
   "source": [
    "La columna Gpu la dividimos en 2: GpuBrand y GpuModel. Marca y modelo repsectivamente."
   ]
  },
  {
   "cell_type": "markdown",
   "metadata": {},
   "source": [
    "### Columna OpSys"
   ]
  },
  {
   "cell_type": "code",
   "execution_count": 37,
   "metadata": {},
   "outputs": [],
   "source": [
    "df['OpSys'] = df['OpSys'].str.replace(r'(10|10\\s*S|7|X)\\s*$', '', regex=True).str.strip()\n",
    "df['OpSys'] = df['OpSys'].str.replace('macOS','Mac OS')"
   ]
  },
  {
   "cell_type": "code",
   "execution_count": 38,
   "metadata": {},
   "outputs": [],
   "source": [
    "df['Weight(KG)'] = df['Weight'].replace('kg','',regex=True)\n",
    "df['Weight(KG)'] = df['Weight(KG)'].astype(float)\n",
    "\n",
    "# Le quitamos kg a la columna Weight para un mejor analisis."
   ]
  },
  {
   "cell_type": "code",
   "execution_count": 39,
   "metadata": {},
   "outputs": [],
   "source": [
    "df = df[['laptop_ID', 'Company', 'Product', 'TypeName', 'Inches', 'Resolution',\n",
    "       'PanelType', 'Touchscreen', 'ProcessorType','ModelIdentifier','Core','ProcessorSpeed(GHz)', \n",
    "       'Ram(GB)', 'Memory SSD GB','Memory HDD GB','Memory FL STO GB','Memory Hybrid GB', 'GpuBrand','GpuModel', 'OpSys',\n",
    "       'Weight(KG)']]"
   ]
  },
  {
   "cell_type": "markdown",
   "metadata": {},
   "source": [
    "Simplemente borramos Las versiones, creemos que el analisis seria mejor asi."
   ]
  },
  {
   "cell_type": "code",
   "execution_count": 40,
   "metadata": {},
   "outputs": [],
   "source": [
    "df['Ram(GB)'] = df['Ram(GB)'].astype(int)"
   ]
  },
  {
   "cell_type": "code",
   "execution_count": 41,
   "metadata": {},
   "outputs": [],
   "source": [
    "df['TypeName'] = df['TypeName'].map({'Convertible':1,'Gaming':2, 'Workstation':3, 'Notebook':4, 'Ultrabook':5, 'Netbook':6})"
   ]
  },
  {
   "cell_type": "code",
   "execution_count": 42,
   "metadata": {},
   "outputs": [],
   "source": [
    "df[['Ancho', 'Alto']] = df['Resolution'].str.split('x', expand=True).astype(int)\n",
    "df['Pixeles'] = df['Ancho'] * df['Alto']\n",
    "df['AspectRatio'] = df['Ancho'] / df['Alto']"
   ]
  },
  {
   "cell_type": "code",
   "execution_count": 43,
   "metadata": {},
   "outputs": [],
   "source": [
    "df['ProcessorType'] = df['ProcessorType'].map({'i7':1,'Atom':2, 'AMD E-Series':3, 'i3':4, 'i5':5, 'Celeron':6,\n",
    "                                          'Pentium':7,'AMD A9-Series':8,'M':9,'AMD':10, 'Xeon':11, 'AMD A6-Series':12, 'Cortex':13, 'AMD Ryzen':4})"
   ]
  },
  {
   "cell_type": "code",
   "execution_count": 44,
   "metadata": {},
   "outputs": [],
   "source": [
    "df['ModelIdentifier'] = [re.sub(r'[A-Za-z&-]', '', modelo) for modelo in df['ModelIdentifier']]\n",
    "df['ModelIdentifier'] = df['ModelIdentifier'].astype(int)"
   ]
  },
  {
   "cell_type": "code",
   "execution_count": 45,
   "metadata": {},
   "outputs": [],
   "source": [
    "df['GpuModel'] = [re.sub(r'[A-Za-z&-]', '', modelo) for modelo in df['GpuModel']]\n",
    "df['GpuModel'] = df['GpuModel'].astype(int)"
   ]
  },
  {
   "cell_type": "code",
   "execution_count": 46,
   "metadata": {},
   "outputs": [],
   "source": [
    "df = df.drop(columns=['Product','Resolution'])"
   ]
  },
  {
   "cell_type": "code",
   "execution_count": 47,
   "metadata": {},
   "outputs": [],
   "source": [
    "from sklearn.preprocessing import OneHotEncoder,LabelEncoder\n",
    "encoder = OneHotEncoder(handle_unknown='ignore',sparse_output=False)\n",
    "df_encoded = encoder.fit_transform(df[['Company']])\n",
    "\n",
    "# Convertir a DataFrame\n",
    "df_encoded = pd.DataFrame(df_encoded, columns=encoder.get_feature_names_out(['Company']))\n",
    "df = pd.concat([df,df_encoded],axis=1)\n",
    "df = df.drop(columns='Company')"
   ]
  },
  {
   "cell_type": "code",
   "execution_count": 48,
   "metadata": {},
   "outputs": [],
   "source": [
    "encoder_panel = OneHotEncoder(handle_unknown='ignore',sparse_output=False)\n",
    "df_encoded_panel = encoder_panel.fit_transform(df[['PanelType']])\n",
    "\n",
    "# Convertir a DataFrame\n",
    "df_encoded_panel = pd.DataFrame(df_encoded_panel, columns=encoder_panel.get_feature_names_out(['PanelType']))\n",
    "df = pd.concat([df,df_encoded_panel],axis=1)\n",
    "df = df.drop(columns='PanelType')"
   ]
  },
  {
   "cell_type": "code",
   "execution_count": 49,
   "metadata": {},
   "outputs": [],
   "source": [
    "encoder_op = OneHotEncoder(handle_unknown='ignore',sparse_output=False)\n",
    "df_encoded_op = encoder_op.fit_transform(df[['OpSys']])\n",
    "\n",
    "# Convertir a DataFrame\n",
    "df_encoded_op = pd.DataFrame(df_encoded_op, columns=encoder_op.get_feature_names_out(['OpSys']))\n",
    "df = pd.concat([df,df_encoded_op],axis=1)\n",
    "df = df.drop(columns='OpSys')"
   ]
  },
  {
   "cell_type": "code",
   "execution_count": 50,
   "metadata": {},
   "outputs": [],
   "source": [
    "enc = LabelEncoder()\n",
    "df['GpuBrand'] = enc.fit_transform(df['GpuBrand'])\n"
   ]
  },
  {
   "cell_type": "code",
   "execution_count": 51,
   "metadata": {},
   "outputs": [],
   "source": [
    "df.to_csv('train_clean.csv',index = 'laptop_ID')"
   ]
  },
  {
   "cell_type": "markdown",
   "metadata": {},
   "source": [
    "## Terminando con la limpieza y future engineer, nos quedamos con estas variables."
   ]
  },
  {
   "cell_type": "markdown",
   "metadata": {},
   "source": [
    "|Variable|Descripcion|\n",
    "|----|----|\n",
    "|Laptop_ID|Indice.|\n",
    "|Company|Compañia fabricante.|\n",
    "|Product|Nombre del PC.|\n",
    "|TypeName|Tipo de PC.|\n",
    "|Inches|Tamaño de pantalla.|\n",
    "|Resolution|Resolucion de pantalla.|\n",
    "|PanelType|Tipo de panel.|\n",
    "|TouchScreen|Tipo Bool, si la pantalla es touch o no.|\n",
    "|ProcessorType|Tipo de procesador.|\n",
    "|ModelIdentifier|Identificador del modelo.|\n",
    "|Core|Cantidad de Nucleos.|\n",
    "|ProcessorSpeed|Velocidad de Procesador.|\n",
    "|Ram|Memoria Ram.|\n",
    "|Memory SSD GB|Memoria SSD|\n",
    "|Memory HDD GB|Memoria Nro SSD|\n",
    "|Memory FL STO GB|Memoria Flash Storage|\n",
    "|Memory Hybrid GB|MEmoria Hibrida|\n",
    "|GpuBrand|Marca de Gpu.|\n",
    "|GpuModel|Modelo de Gpu.|\n",
    "|OpSys|Sistema operativo.|\n",
    "|Weight|Peso del PC.|\n",
    "|Price_euros|Precio de PC.|\n"
   ]
  },
  {
   "cell_type": "markdown",
   "metadata": {},
   "source": [
    "## Analisis Univariante."
   ]
  },
  {
   "cell_type": "code",
   "execution_count": 82,
   "metadata": {},
   "outputs": [],
   "source": [
    "import sys\n",
    "sys.path.append(r'C:\\Users\\Abdon.RAMIREZ-BRICEN\\OneDrive - Akkodis\\Documents\\Analisis_datos_eda\\scripts')"
   ]
  },
  {
   "cell_type": "code",
   "execution_count": 83,
   "metadata": {},
   "outputs": [],
   "source": [
    "# os.chdir(r'C:\\Users\\Abdon.RAMIREZ-BRICEN\\OneDrive - Akkodis\\Documents\\Analisis_datos_eda\\scripts\\ClaseAbdon.py')"
   ]
  },
  {
   "cell_type": "code",
   "execution_count": 84,
   "metadata": {},
   "outputs": [],
   "source": [
    "from ClaseAbdon import DataFrameAnalyzer\n",
    "# Importo mi clase"
   ]
  },
  {
   "cell_type": "code",
   "execution_count": 85,
   "metadata": {},
   "outputs": [],
   "source": [
    "clase = DataFrameAnalyzer(df)"
   ]
  },
  {
   "cell_type": "code",
   "execution_count": null,
   "metadata": {},
   "outputs": [],
   "source": [
    "clase.test_Ksmirnov()"
   ]
  },
  {
   "cell_type": "code",
   "execution_count": 87,
   "metadata": {},
   "outputs": [],
   "source": [
    "from scipy.stats import shapiro, anderson, normaltest"
   ]
  },
  {
   "cell_type": "code",
   "execution_count": null,
   "metadata": {},
   "outputs": [],
   "source": [
    "num = df.select_dtypes(include='number')\n",
    "\n",
    "for n in num:\n",
    "    stat, p = normaltest(df[n])\n",
    "    print(f'{n}: Dagostino test         statistic: {stat}, p-value: {p}')"
   ]
  },
  {
   "cell_type": "code",
   "execution_count": null,
   "metadata": {},
   "outputs": [],
   "source": [
    "clase.resumen()"
   ]
  },
  {
   "cell_type": "markdown",
   "metadata": {},
   "source": [
    "Podemos observar que hay una alta cardinalidad en el Nombre de producto y en el precio.\n",
    "En el resto de variables hay una cardinalidad baja, es normal porque muchos PC tienen especificaciones \"parecidas\"."
   ]
  },
  {
   "cell_type": "code",
   "execution_count": null,
   "metadata": {},
   "outputs": [],
   "source": [
    "clase.describe_numeric()"
   ]
  },
  {
   "cell_type": "markdown",
   "metadata": {},
   "source": [
    "Poco que mirar en las variables numericas, touchscreen es tipo bool y core \"Numerica discreta\". \n",
    "Con respecto al precio vemos que la mediana y la media estan relativamente \"cerca\", la moda es 499 y tiene una STD un poco elevada. lo que los precios varian considerablemente."
   ]
  },
  {
   "cell_type": "code",
   "execution_count": null,
   "metadata": {},
   "outputs": [],
   "source": [
    "clase.describe_categorical()"
   ]
  },
  {
   "cell_type": "markdown",
   "metadata": {},
   "source": [
    "En este DF vemos que la compañia Dell es la que mas frecuenta entre las marcas. El producto \"XPS 13\" el mas frecuente entre ellos, el sistema operativo mas frecuente es Window.. etc."
   ]
  },
  {
   "cell_type": "code",
   "execution_count": null,
   "metadata": {},
   "outputs": [],
   "source": [
    "clase.plot_numeric()"
   ]
  },
  {
   "cell_type": "code",
   "execution_count": 184,
   "metadata": {},
   "outputs": [],
   "source": [
    "# Q1_price = df['Price_euros'].quantile(0.25)\n",
    "# Q3_price = df['Price_euros'].quantile(0.75)\n",
    "# IQR_price = Q3_price - Q1_price\n",
    "\n",
    "# upper_limit_price = Q3_price + 1.5 * IQR_price\n",
    "\n",
    "# # Identificar valores fuera del rango IQR\n",
    "# outl_price = df[df['Price_euros'] > upper_limit_price]\n",
    "# outl_price[['Company','Product','Price_euros']]"
   ]
  },
  {
   "cell_type": "markdown",
   "metadata": {},
   "source": [
    "En la variable de precios vemos que hay ciertos outliers, como vimos anteriormente el max superaba los 5000€. Es normal que existan PC mas costosos que otros."
   ]
  },
  {
   "cell_type": "code",
   "execution_count": null,
   "metadata": {},
   "outputs": [],
   "source": [
    "Q1_weight = df['Weight(KG)'].quantile(0.25)\n",
    "Q3_weight = df['Weight(KG)'].quantile(0.75)\n",
    "IQR_weight = Q3_weight - Q1_weight\n",
    "\n",
    "upper_limit_weight = Q3_weight + 1.5 * IQR_weight\n",
    "\n",
    "# Identificar valores fuera del rango IQR\n",
    "outl_weight = df[df['Weight(KG)'] > upper_limit_weight]\n",
    "outl_weight[['Company','Product','Weight(KG)']]"
   ]
  },
  {
   "cell_type": "markdown",
   "metadata": {},
   "source": [
    "En la columna weigh tenemos estos outliers, Alienware 17 es el pc que mas se repite en los outliers."
   ]
  },
  {
   "cell_type": "code",
   "execution_count": null,
   "metadata": {},
   "outputs": [],
   "source": [
    "df_numeric = df.select_dtypes('number')\n",
    "correlation_matrix = df_numeric.corr()\n",
    "plt.figure(figsize=(10, 8))\n",
    "sns.heatmap(correlation_matrix, annot=True, cmap='coolwarm', fmt=\".2f\", linewidths=0.5)\n",
    "plt.title(\"Mapa de Correlación\")\n",
    "plt.show()"
   ]
  },
  {
   "cell_type": "markdown",
   "metadata": {},
   "source": [
    "- Vemos que en el precio tiene mas corr con la velocidad de procesador y la 2DA memoria.\n",
    "- El peso y la 2DA memoria tambien tiene un relacion relativamente \"alta\".\n",
    "- El peso y las inchas estan muy correlaciones, mientras mas inchas mas peso.\n"
   ]
  },
  {
   "cell_type": "code",
   "execution_count": null,
   "metadata": {},
   "outputs": [],
   "source": [
    "company_counts = df['Company'].value_counts()\n",
    "plt.figure(figsize=(12, 6))\n",
    "sns.barplot(x=company_counts.index, y=company_counts.values)\n",
    "plt.title('Cantidad de productos por compañía')\n",
    "plt.xlabel('Compañía')\n",
    "plt.ylabel('Cantidad de productos')\n",
    "plt.xticks(rotation=45, ha='right')\n",
    "plt.tight_layout()\n",
    "plt.show()"
   ]
  },
  {
   "cell_type": "markdown",
   "metadata": {},
   "source": [
    "Observamos que Dell, Lenovo y HP dominan entre las demas compañias."
   ]
  },
  {
   "cell_type": "code",
   "execution_count": null,
   "metadata": {},
   "outputs": [],
   "source": [
    "type_counts = df['TypeName'].value_counts()\n",
    "plt.figure(figsize=(12, 6))\n",
    "sns.barplot(x=type_counts.index, y=type_counts.values)\n",
    "plt.title('Tipos de PC')\n",
    "plt.xlabel('Tipos de PC')\n",
    "plt.ylabel('Cantidad de tipos')\n",
    "plt.tight_layout()\n",
    "plt.show()"
   ]
  },
  {
   "cell_type": "markdown",
   "metadata": {},
   "source": [
    "Vemos que los tipo Notebook son los que mayormente hay."
   ]
  },
  {
   "cell_type": "code",
   "execution_count": null,
   "metadata": {},
   "outputs": [],
   "source": [
    "touch_counts = df['Touchscreen'].value_counts()\n",
    "plt.figure(figsize=(12, 6))\n",
    "sns.barplot(x=touch_counts.index, y=touch_counts.values)\n",
    "plt.title('Cantidad de touchscreen')\n",
    "plt.xlabel('No/Yes')\n",
    "plt.ylabel('Cantidad de PC')\n",
    "plt.tight_layout()\n",
    "plt.show()"
   ]
  },
  {
   "cell_type": "markdown",
   "metadata": {},
   "source": [
    "Vemos que hay gran diferencia entre los PC que no tienen pantalla tactil y los que si."
   ]
  },
  {
   "cell_type": "code",
   "execution_count": null,
   "metadata": {},
   "outputs": [],
   "source": [
    "plt.figure(figsize=(12, 6))\n",
    "sns.histplot(df['Resolution'], discrete=True, kde=False)\n",
    "plt.title('Resoluciones')\n",
    "plt.ylabel('Cantidad de resolucion PC')\n",
    "plt.xticks(rotation=45, ha='right')\n",
    "plt.show()"
   ]
  },
  {
   "cell_type": "markdown",
   "metadata": {},
   "source": [
    "La resolucion 1920X1080, es la mas comun entre estos pc."
   ]
  },
  {
   "cell_type": "code",
   "execution_count": null,
   "metadata": {},
   "outputs": [],
   "source": [
    "plt.figure(figsize=(12, 6))\n",
    "sns.histplot(df['PanelType'], discrete=True, kde=False)\n",
    "plt.title('Tipo de Panel')\n",
    "plt.ylabel('Cantidad de tipo de paneles.')\n",
    "plt.xticks(rotation=45, ha='right')\n",
    "\n",
    "plt.show()"
   ]
  },
  {
   "cell_type": "markdown",
   "metadata": {},
   "source": [
    "El panel Full HD, el ,as comun entre los pc."
   ]
  },
  {
   "cell_type": "code",
   "execution_count": null,
   "metadata": {},
   "outputs": [],
   "source": [
    "proce_counts = df['ProcessorType'].value_counts()\n",
    "plt.figure(figsize=(12, 6))\n",
    "sns.barplot(x=proce_counts.index, y=proce_counts.values)\n",
    "plt.title('Cantidad por procesadores')\n",
    "plt.xlabel('Procesadores')\n",
    "plt.ylabel('Cantidad de PC')\n",
    "plt.xticks(rotation=45, ha='right')\n",
    "# plt.tight_layout()\n",
    "plt.show()"
   ]
  },
  {
   "cell_type": "code",
   "execution_count": null,
   "metadata": {},
   "outputs": [],
   "source": [
    "core = df['Core'].value_counts()\n",
    "core.index = core.index.map({0: 'Sin identificar', 2: 'Dual', 4: 'Quad'})\n",
    "\n",
    "plt.figure(figsize=(8, 6))\n",
    "core.plot(kind='bar', color='skyblue', edgecolor='black')\n",
    "\n",
    "plt.title('Distribucion de Core', fontsize=14)\n",
    "plt.xlabel('Tipo de Core', fontsize=12)\n",
    "plt.ylabel('Cantidad', fontsize=12)\n",
    "plt.xticks(rotation=0)\n",
    "plt.show()"
   ]
  },
  {
   "cell_type": "markdown",
   "metadata": {},
   "source": [
    "Solo tenemos unos pocos Cores especificados, nos pueden servir en un futuro para poder hacer comparaciones entre laptops."
   ]
  },
  {
   "cell_type": "code",
   "execution_count": null,
   "metadata": {},
   "outputs": [],
   "source": [
    "ram_counts = df['Ram(GB)'].value_counts()\n",
    "plt.figure(figsize=(12, 6))\n",
    "sns.barplot(x=ram_counts.index, y=ram_counts.values)\n",
    "plt.title('Cantidad de Memorias Ram')\n",
    "plt.xlabel('RAM')\n",
    "plt.ylabel('Cantidad de PC')\n",
    "plt.tight_layout()\n",
    "plt.show()"
   ]
  },
  {
   "cell_type": "markdown",
   "metadata": {},
   "source": [
    "Para la sorpresa de nadia.. La de 8GB es la mas frecuente entre los 912 pc."
   ]
  },
  {
   "cell_type": "code",
   "execution_count": null,
   "metadata": {},
   "outputs": [],
   "source": [
    "op_counts = df['OpSys'].value_counts(ascending=True)\n",
    "plt.figure(figsize=(12, 6))\n",
    "plt.plot(\n",
    "    op_counts.values, \n",
    "    op_counts.index, \n",
    "    'o-', color='skyblue', markersize=10, markeredgecolor='black'\n",
    ")\n",
    "\n",
    "plt.title('Cantidad de Sistemas Operativos', fontsize=14)\n",
    "plt.xlabel('Cantidad de PC', fontsize=12)\n",
    "plt.ylabel('Sistema Operativo', fontsize=12)\n",
    "plt.grid(axis='x', linestyle='--', alpha=0.7)\n",
    "plt.tight_layout()\n",
    "plt.show()"
   ]
  },
  {
   "cell_type": "markdown",
   "metadata": {},
   "source": [
    "Terminamos con que WINDOWS es el sistema operativo mas comun entre todos los pc."
   ]
  },
  {
   "cell_type": "code",
   "execution_count": null,
   "metadata": {},
   "outputs": [],
   "source": []
  }
 ],
 "metadata": {
  "kernelspec": {
   "display_name": "analisis_ordenadores-EbmXH_A8-py3.12",
   "language": "python",
   "name": "python3"
  },
  "language_info": {
   "codemirror_mode": {
    "name": "ipython",
    "version": 3
   },
   "file_extension": ".py",
   "mimetype": "text/x-python",
   "name": "python",
   "nbconvert_exporter": "python",
   "pygments_lexer": "ipython3",
   "version": "3.12.6"
  }
 },
 "nbformat": 4,
 "nbformat_minor": 2
}
